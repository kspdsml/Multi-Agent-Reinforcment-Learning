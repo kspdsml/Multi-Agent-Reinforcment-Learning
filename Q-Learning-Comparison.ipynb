{
  "nbformat": 4,
  "nbformat_minor": 0,
  "metadata": {
    "colab": {
      "provenance": [],
      "collapsed_sections": [
        "hth3aH3qc26a",
        "yXQ45Bib1cXy"
      ]
    },
    "kernelspec": {
      "name": "python3",
      "display_name": "Python 3"
    },
    "language_info": {
      "name": "python"
    }
  },
  "cells": [
    {
      "cell_type": "markdown",
      "source": [
        "# Final Project: Building and Solving MARL"
      ],
      "metadata": {
        "id": "5Q9rFNVqtyYk"
      }
    },
    {
      "cell_type": "markdown",
      "source": [
        "## Setup 1"
      ],
      "metadata": {
        "id": "aMukFhqGgdwE"
      }
    },
    {
      "cell_type": "markdown",
      "source": [
        "### Environment set up"
      ],
      "metadata": {
        "id": "Tif4aAvogteq"
      }
    },
    {
      "cell_type": "code",
      "source": [
        "import numpy as np\n",
        "import gym\n",
        "from gym import spaces\n",
        "import copy\n",
        "from copy import copy\n",
        "import matplotlib.pyplot as plt\n",
        "import random\n",
        "import time\n",
        "\n",
        "%matplotlib inline\n",
        "\n",
        "class MAGridWorld_1(gym.Env):\n",
        "    metadata = { 'render.modes' : ['human', 'rgb_array'] }\n",
        "\n",
        "    def __init__(self, x, y, n_agents):\n",
        "        self.x = x\n",
        "        self.y = y\n",
        "        self._grid_size = (self.x, self.y)\n",
        "        self.world = np.zeros((self._grid_size))\n",
        "        self._timestep = None\n",
        "        self._max_timestep = self._max_timestep = config['MAX_STEPS_PER_EPI']\n",
        "        self.n_agents = n_agents\n",
        "        self.n_landmarks = 10\n",
        "        self.dist = int((self.x-1)/(n_agents-1))\n",
        "        self._step_cost = -0.1\n",
        "        self.num_of_states = self.x * self.y\n",
        "        self.observation_space = spaces.Discrete(self.num_of_states)\n",
        "        self.action_space = spaces.Discrete(5)\n",
        "\n",
        "\n",
        "\n",
        "    def reset(self):\n",
        "        self.agent_pos = []\n",
        "        self.goal_pos = []\n",
        "        self.landmark_pos = []\n",
        "        for i in range(self.n_landmarks):\n",
        "          self.landmark_pos.append([random.randint(5,20), random.randint(5,20)])\n",
        "        self._timestep = 0\n",
        "        self.done = [False for i in range(self.n_agents)]\n",
        "        for i in range(self.n_agents):\n",
        "            self.agent_pos.append([self.x-1, i*self.dist])\n",
        "            self.goal_pos.append([0, i*self.dist])\n",
        "        self.goal_pos.reverse()\n",
        "\n",
        "\n",
        "        observation = self.agent_pos\n",
        "        return observation\n",
        "\n",
        "    def _compute_distance(self, x, y):\n",
        "        dist = np.abs(x[0]-y[0]) + np.abs(x[1]-y[1])\n",
        "        return dist\n",
        "\n",
        "    def _is_inside_grid(self, pos):\n",
        "        return (0 <= pos[0] < self._grid_size[0]) and (0 <= pos[1] < self._grid_size[1])\n",
        "\n",
        "    def _is_collision(self, new_pos, agent):\n",
        "        for i in range(self.n_agents):\n",
        "            if i == agent:\n",
        "                continue\n",
        "            elif new_pos == self.agent_pos[i]:\n",
        "                return True\n",
        "            elif new_pos == self.goal_pos[i]:\n",
        "                return True\n",
        "\n",
        "    def step(self, actions):\n",
        "        self._timestep += 1\n",
        "        old_pos = self.agent_pos.copy()\n",
        "        rewards = [0 for _ in range(self.n_agents)]\n",
        "\n",
        "        for i in range(self.n_agents):\n",
        "            self.update_agent_pos(i, actions[i])\n",
        "            old_dist = self._compute_distance(old_pos[i], self.goal_pos[i])\n",
        "            new_dist = self._compute_distance(self.agent_pos[i], self.goal_pos[i])\n",
        "\n",
        "            if new_dist < old_dist:\n",
        "                rewards[i] = -0.1\n",
        "            elif new_dist > old_dist:\n",
        "                rewards[i] = -0.5\n",
        "\n",
        "            elif (new_dist == old_dist) and not self.done[i]:\n",
        "                rewards[i] = -1\n",
        "\n",
        "            if (self.agent_pos[i] == self.goal_pos[i]):\n",
        "                self.done[i] = True\n",
        "                rewards[i] = 10\n",
        "            else:\n",
        "                self.done[i] = False\n",
        "\n",
        "\n",
        "        if self._timestep >= self._max_timestep:\n",
        "            self.done = [True for i in range(self.n_agents)]\n",
        "\n",
        "\n",
        "        observation = self.agent_pos\n",
        "        info = {}\n",
        "        return observation, rewards, self.done, info #all(done)\n",
        "\n",
        "\n",
        "    def update_agent_pos(self, agent, action):\n",
        "        next_pos = copy(self.agent_pos[agent])\n",
        "        if action == 0: # Down\n",
        "            next_pos[0] += 1\n",
        "        elif action == 1: # Up\n",
        "            next_pos[0] -= 1\n",
        "        elif action == 2: # Right\n",
        "            next_pos[1] += 1\n",
        "        elif action == 3: # Left\n",
        "            next_pos[1] -= 1\n",
        "        elif action == 4: # No move\n",
        "            pass\n",
        "        else:\n",
        "            raise Exception('Action is not valid')\n",
        "\n",
        "        if self._is_inside_grid(next_pos) and not self._is_collision(next_pos, agent):\n",
        "            self.agent_pos[agent] = next_pos\n",
        "        else:\n",
        "            pass\n",
        "\n",
        "\n",
        "    def render(self):\n",
        "        state = np.copy(self.world)\n",
        "        for i in range(self.n_landmarks):\n",
        "          state[tuple(self.landmark_pos[i])] = 0.5\n",
        "        for i in range(self.n_agents):\n",
        "            state[tuple(self.agent_pos[i])] = 1 - (0.1 * i)\n",
        "            state[tuple(self.goal_pos[i])] = 1 - (0.1 * i)\n",
        "        return plt.imshow(state)"
      ],
      "metadata": {
        "id": "c2BR-wniHxxF"
      },
      "execution_count": null,
      "outputs": []
    },
    {
      "cell_type": "code",
      "source": [],
      "metadata": {
        "id": "FPHXnL2O9c2t"
      },
      "execution_count": null,
      "outputs": []
    },
    {
      "cell_type": "code",
      "source": [
        "config = {\n",
        "    # number of agents\n",
        "    'N_AGENTS' : 4,\n",
        "\n",
        "    # grid world size 3x3, 4x4,...6x6\n",
        "    #'GRID_SIZE' : 12,\n",
        "\n",
        "    # x & y size\n",
        "    'X_SIZE' : 25,\n",
        "    'Y_SIZE' : 25,\n",
        "\n",
        "    # max timesteps\n",
        "    'MAX_STEPS_PER_EPI': 10\n",
        "}"
      ],
      "metadata": {
        "id": "UV7gBuCPWmZt"
      },
      "execution_count": null,
      "outputs": []
    },
    {
      "cell_type": "markdown",
      "source": [
        "### Run for 10 random agents for timesteps"
      ],
      "metadata": {
        "id": "_q3fyynkgyIs"
      }
    },
    {
      "cell_type": "code",
      "source": [
        "from IPython.display import clear_output"
      ],
      "metadata": {
        "id": "T41lkM97WkMm"
      },
      "execution_count": null,
      "outputs": []
    },
    {
      "cell_type": "code",
      "source": [
        "if __name__ == '__main__':\n",
        "\n",
        "  n_agents = config['N_AGENTS']\n",
        "  x = config['X_SIZE']\n",
        "  y = config['Y_SIZE']\n",
        "\n",
        "  max_steps_episode = config['MAX_STEPS_PER_EPI']\n",
        "\n",
        "\n",
        "  env = MAGridWorld_1(x=x, y=y, n_agents=n_agents)\n",
        "  env.reset()\n",
        "  i = 1\n",
        "\n",
        "  results = []\n",
        "  # while not all(env.done):\n",
        "  #     action_n = [env.action_space.sample(), env.action_space.sample(), \\\n",
        "  #                   env.action_space.sample(), env.action_space.sample(), \\\n",
        "  #                   env.action_space.sample(), env.action_space.sample()]\n",
        "\n",
        "  #     state, reward, done, _ = env.step(action_n)\n",
        "  #     results.append(f'Timestep {i}: \\n Actions: {action_n} \\n'\n",
        "  #                     f'State: {state} \\n Reward: {reward} \\n'\n",
        "  #                     f'Done: {done} \\n \\n ')\n",
        "  #     print(f'Timestep {i}')\n",
        "  #     i += 1\n",
        "  #     print('Actions: ', action_n)\n",
        "  #     print('State: ', state)\n",
        "  #     print('Reward: ', reward)\n",
        "  #     print('Done: ', done)\n",
        "  #     print('\\n')\n",
        "  #     plt.figure()\n",
        "  #     env.render()\n",
        "  #     plt.show()\n",
        "  #     time.sleep(.4)\n",
        "  #     clear_output(wait=True)\n",
        "\n",
        "\n",
        "  # for result in results:\n",
        "  #     print(result)\n",
        "\n",
        "  env.render()"
      ],
      "metadata": {
        "colab": {
          "base_uri": "https://localhost:8080/",
          "height": 265
        },
        "id": "KOQqLV8TH0TA",
        "outputId": "236cc7bd-a509-4bc4-f36f-02a703eeb3fd"
      },
      "execution_count": null,
      "outputs": [
        {
          "output_type": "display_data",
          "data": {
            "text/plain": [
              "<Figure size 432x288 with 1 Axes>"
            ],
            "image/png": "[encoded data removed]"
          },
          "metadata": {
            "needs_background": "light"
          }
        }
      ]
    },
    {
      "cell_type": "markdown",
      "source": [
        "### Q-Learning"
      ],
      "metadata": {
        "id": "t2T2Iu1UhYqN"
      }
    },
    {
      "cell_type": "code",
      "source": [
        "config = {\n",
        "    # number of agents\n",
        "    'N_AGENTS' : 4,\n",
        "\n",
        "    # grid world size 3x3, 4x4,...6x6\n",
        "    'GRID_SIZE' : 5,\n",
        "\n",
        "    # number of episodes that will run\n",
        "    'NUM_EPI': 100,\n",
        "\n",
        "    # max timesteps\n",
        "    'MAX_STEPS_PER_EPI': 200,\n",
        "\n",
        "    # initialize exploration rate to 1\n",
        "    'EXPL_RATE': 1,\n",
        "\n",
        "    # epsilon decay rate\n",
        "    'EXPL_DECAY_RATE': 0.01,\n",
        "\n",
        "    # minimum epsilon rate\n",
        "    'MIN_EXPL_RATE': 0.01,\n",
        "\n",
        "    # learning rate\n",
        "    'ALPHA': 0.5,\n",
        "\n",
        "    # discount factor\n",
        "    'GAMMA': 0.9\n",
        "}"
      ],
      "metadata": {
        "id": "utidfCvQhaeS"
      },
      "execution_count": null,
      "outputs": []
    },
    {
      "cell_type": "code",
      "source": [
        "import numpy as np\n",
        "import gym\n",
        "from gym import spaces\n",
        "import copy\n",
        "from copy import copy\n",
        "import matplotlib.pyplot as plt\n",
        "import random\n",
        "import time\n",
        "\n",
        "%matplotlib inline\n",
        "\n",
        "class MAGridWorld(gym.Env):\n",
        "    metadata = { 'render.modes' : ['human', 'rgb_array'] }\n",
        "\n",
        "    def __init__(self, size, n_agents):\n",
        "        self.size = size\n",
        "        self._grid_size = (self.size, self.size)\n",
        "        self.world = np.zeros((self._grid_size))\n",
        "        self._timestep = None\n",
        "        self._max_timestep = config['MAX_STEPS_PER_EPI']\n",
        "        self.n_agents = n_agents\n",
        "        self.dist = int((self.size-1)/(n_agents-1))\n",
        "        self._step_cost = -0.1\n",
        "        self.num_of_states = self.size * self.size\n",
        "        self.observation_space = spaces.Discrete(self.num_of_states)\n",
        "        self.action_space = spaces.Discrete(5)\n",
        "\n",
        "\n",
        "\n",
        "    def reset(self):\n",
        "        self.agent_pos = []\n",
        "        self.goal_pos = []\n",
        "        self._timestep = 0\n",
        "        self.done = [False for i in range(self.n_agents)]\n",
        "        for i in range(self.n_agents):\n",
        "            self.agent_pos.append([self.size-1, i*self.dist])\n",
        "            self.goal_pos.append([0, i*self.dist])\n",
        "        self.goal_pos.reverse()\n",
        "\n",
        "\n",
        "        observation = self._pos_to_state(self.agent_pos)\n",
        "        return observation\n",
        "\n",
        "    def _compute_distance(self, x, y):\n",
        "        dist = np.abs(x[0]-y[0]) + np.abs(x[1]-y[1])\n",
        "        return dist\n",
        "\n",
        "    def _is_inside_grid(self, pos):\n",
        "        return (0 <= pos[0] < self._grid_size[0]) and (0 <= pos[1] < self._grid_size[1])\n",
        "\n",
        "    def _is_collision(self, new_pos, agent):\n",
        "        for i in range(self.n_agents):\n",
        "            if i == agent:\n",
        "                continue\n",
        "            elif new_pos == self.agent_pos[i]:\n",
        "                return True\n",
        "            elif new_pos == self.goal_pos[i]:\n",
        "                return True\n",
        "\n",
        "    def _pos_to_state(self, positions):\n",
        "      pos_list = []\n",
        "      state_list = []\n",
        "      state_dict = {}\n",
        "      for x in range(self.size):\n",
        "        for y in range(self.size):\n",
        "          pos_list.append(f'[{x}, {y}]')\n",
        "\n",
        "      for i, val in enumerate(pos_list):\n",
        "        state_dict[i] = val\n",
        "\n",
        "      pos_to_state_dict = {v: k for k, v in state_dict.items()}\n",
        "      state_list = [pos_to_state_dict[str(x)] for x in positions]\n",
        "      return state_list\n",
        "\n",
        "    def step(self, actions):\n",
        "        self._timestep += 1\n",
        "        old_pos = self.agent_pos.copy()\n",
        "        rewards = [0 for _ in range(self.n_agents)]\n",
        "\n",
        "        for i in range(self.n_agents):\n",
        "            self.update_agent_pos(i, actions[i])\n",
        "            old_dist = self._compute_distance(old_pos[i], self.goal_pos[i])\n",
        "            new_dist = self._compute_distance(self.agent_pos[i], self.goal_pos[i])\n",
        "\n",
        "            if new_dist < old_dist:\n",
        "                rewards[i] = 1\n",
        "            elif new_dist > old_dist:\n",
        "                rewards[i] = -1\n",
        "\n",
        "            elif (new_dist == old_dist) and not self.done[i]:\n",
        "                rewards[i] = -10\n",
        "\n",
        "            if (self.agent_pos[i] == self.goal_pos[i]):\n",
        "                self.done[i] = True\n",
        "                rewards[i] = 10\n",
        "            else:\n",
        "                self.done[i] = False\n",
        "\n",
        "\n",
        "        if self._timestep >= self._max_timestep:\n",
        "            self.done = [True for i in range(self.n_agents)]\n",
        "\n",
        "\n",
        "        observation = self._pos_to_state(self.agent_pos)\n",
        "        info = {}\n",
        "        return observation, rewards, self.done, info #all(done)\n",
        "\n",
        "\n",
        "    def update_agent_pos(self, agent, action):\n",
        "        next_pos = copy(self.agent_pos[agent])\n",
        "        if action == 0: # Down\n",
        "            next_pos[0] += 1\n",
        "        elif action == 1: # Up\n",
        "            next_pos[0] -= 1\n",
        "        elif action == 2: # Right\n",
        "            next_pos[1] += 1\n",
        "        elif action == 3: # Left\n",
        "            next_pos[1] -= 1\n",
        "        elif action == 4: # No move\n",
        "            pass\n",
        "        else:\n",
        "            raise Exception('Action is not valid')\n",
        "\n",
        "        if self._is_inside_grid(next_pos) and not self._is_collision(next_pos, agent):\n",
        "            self.agent_pos[agent] = next_pos\n",
        "        else:\n",
        "            pass\n",
        "\n",
        "\n",
        "    def render(self):\n",
        "        state = np.copy(self.world)\n",
        "        for i in range(self.n_agents):\n",
        "            state[tuple(self.agent_pos[i])] = 1 - (0.1 * i)\n",
        "            state[tuple(self.goal_pos[i])] = 1 - (0.1 * i)\n",
        "        return plt.imshow(state)"
      ],
      "metadata": {
        "id": "K-V1KvV2hgnn"
      },
      "execution_count": null,
      "outputs": []
    },
    {
      "cell_type": "code",
      "source": [
        "from IPython.display import clear_output"
      ],
      "metadata": {
        "id": "YaQlNf-XhnBB"
      },
      "execution_count": null,
      "outputs": []
    },
    {
      "cell_type": "code",
      "source": [
        "if __name__ == '__main__':\n",
        "\n",
        "  # Initialize Constants\n",
        "  n_agents = config['N_AGENTS']\n",
        "  size = config['GRID_SIZE']\n",
        "  n_episodes = config['NUM_EPI']\n",
        "  max_steps_episode = config['MAX_STEPS_PER_EPI']\n",
        "  exploration_rate = config['EXPL_RATE']\n",
        "  exploration_decay_rate = config['EXPL_DECAY_RATE']\n",
        "  min_exploration_rate = config['MIN_EXPL_RATE']\n",
        "  gamma = config['GAMMA']\n",
        "  lr = config['ALPHA']\n",
        "\n",
        "  # Make new Grid World\n",
        "  env = MAGridWorld(size=size, n_agents=n_agents)\n",
        "  n_observations = env.observation_space.n\n",
        "  n_actions = env.action_space.n\n",
        "\n",
        "  # Initialize Q-table to 0\n",
        "  Q_table = np.zeros((n_agents, n_observations, n_actions))\n",
        "  print(Q_table)\n",
        "\n",
        "  # total Episode Reward\n",
        "  total_episode_reward = []\n",
        "  timesteps_per_episode = []\n",
        "  exploration_decay = []\n",
        "  # Iterate over episodes\n",
        "  for episode in range(n_episodes):\n",
        "\n",
        "\n",
        "    current_state = env.reset()\n",
        "    i = 1\n",
        "\n",
        "    episode_reward = np.zeros((n_agents))\n",
        "\n",
        "    # while max timesteps or termination condition not met\n",
        "    while not all(env.done):\n",
        "      action_n = []\n",
        "\n",
        "      # if exploration rate is greater than random numb from 0-1\n",
        "      if np.random.uniform(0,1) < exploration_rate:\n",
        "\n",
        "        # Take Random Action\n",
        "        action_n = [env.action_space.sample(), env.action_space.sample(), \\\n",
        "                      env.action_space.sample(), env.action_space.sample(), \\\n",
        "                      env.action_space.sample(), env.action_space.sample()]\n",
        "      # if exploration rate below random num from 0-1\n",
        "      else:\n",
        "        #exploit best actions using q_table\n",
        "        for n in range(n_agents):\n",
        "          action_n.append(np.argmax(Q_table[n, current_state[n], :]))\n",
        "\n",
        "      # Environment runs the chosen action and returns the next state,\n",
        "      # rewards, and true if episode ended\n",
        "      next_state, rewards, done, _ = env.step(action_n)\n",
        "      episode_reward[0:] += rewards[0:]\n",
        "\n",
        "      # Update Q-table\n",
        "      for n in range(n_agents):\n",
        "        Q_table[n, current_state[n], action_n[n]] = (1-lr) * Q_table[n, current_state[n], action_n[n]] + lr * (rewards[n] + gamma * max(Q_table[n, next_state[n], :]))\n",
        "\n",
        "      current_state = next_state\n",
        "      # print(f'Episode {episode + 1}:')\n",
        "      # print(f'Timestep {i}')\n",
        "      # i += 1\n",
        "      # print('Actions: ', action_n)\n",
        "      # print('Next State: ', next_state)\n",
        "      # print('Reward: ', rewards)\n",
        "      # print('Episode Reward: ', episode_reward)\n",
        "      # print('Done: ', done)\n",
        "      # print('\\n')\n",
        "      # plt.figure()\n",
        "      # env.render()\n",
        "      # plt.show()\n",
        "      # time.sleep(.01)\n",
        "      # clear_output(wait=True)\n",
        "\n",
        "    timesteps_per_episode.append(env._timestep)\n",
        "    # Update exploration rate using decay formula\n",
        "    exploration_decay.append(exploration_rate)\n",
        "    exploration_rate = max(min_exploration_rate, np.exp(-exploration_decay_rate*episode))\n",
        "    total_episode_reward.append(episode_reward)"
      ],
      "metadata": {
        "colab": {
          "base_uri": "https://localhost:8080/",
          "height": 240
        },
        "id": "bLtcm_Eiht1t",
        "outputId": "4c2e5a85-7895-46c3-8a9d-98c248ef90f7"
      },
      "execution_count": null,
      "outputs": [
        {
          "output_type": "error",
          "ename": "KeyError",
          "evalue": "ignored",
          "traceback": [
            "\u001b[0;31m---------------------------------------------------------------------------\u001b[0m",
            "\u001b[0;31mKeyError\u001b[0m                                  Traceback (most recent call last)",
            "\u001b[0;32m<ipython-input-38-6483bc34adf8>\u001b[0m in \u001b[0;36m<module>\u001b[0;34m\u001b[0m\n\u001b[1;32m      3\u001b[0m   \u001b[0;31m# Initialize Constants\u001b[0m\u001b[0;34m\u001b[0m\u001b[0;34m\u001b[0m\u001b[0;34m\u001b[0m\u001b[0m\n\u001b[1;32m      4\u001b[0m   \u001b[0mn_agents\u001b[0m \u001b[0;34m=\u001b[0m \u001b[0mconfig\u001b[0m\u001b[0;34m[\u001b[0m\u001b[0;34m'N_AGENTS'\u001b[0m\u001b[0;34m]\u001b[0m\u001b[0;34m\u001b[0m\u001b[0;34m\u001b[0m\u001b[0m\n\u001b[0;32m----> 5\u001b[0;31m   \u001b[0msize\u001b[0m \u001b[0;34m=\u001b[0m \u001b[0mconfig\u001b[0m\u001b[0;34m[\u001b[0m\u001b[0;34m'GRID_SIZE'\u001b[0m\u001b[0;34m]\u001b[0m\u001b[0;34m\u001b[0m\u001b[0;34m\u001b[0m\u001b[0m\n\u001b[0m\u001b[1;32m      6\u001b[0m   \u001b[0mn_episodes\u001b[0m \u001b[0;34m=\u001b[0m \u001b[0mconfig\u001b[0m\u001b[0;34m[\u001b[0m\u001b[0;34m'NUM_EPI'\u001b[0m\u001b[0;34m]\u001b[0m\u001b[0;34m\u001b[0m\u001b[0;34m\u001b[0m\u001b[0m\n\u001b[1;32m      7\u001b[0m   \u001b[0mmax_steps_episode\u001b[0m \u001b[0;34m=\u001b[0m \u001b[0mconfig\u001b[0m\u001b[0;34m[\u001b[0m\u001b[0;34m'MAX_STEPS_PER_EPI'\u001b[0m\u001b[0;34m]\u001b[0m\u001b[0;34m\u001b[0m\u001b[0;34m\u001b[0m\u001b[0m\n",
            "\u001b[0;31mKeyError\u001b[0m: 'GRID_SIZE'"
          ]
        }
      ]
    },
    {
      "cell_type": "code",
      "source": [
        "print(total_episode_reward)\n"
      ],
      "metadata": {
        "colab": {
          "base_uri": "https://localhost:8080/"
        },
        "id": "SR6brGdoJXIl",
        "outputId": "c068cb47-96a9-4d77-b4b8-948da886ba8d"
      },
      "execution_count": null,
      "outputs": [
        {
          "output_type": "stream",
          "name": "stdout",
          "text": [
            "[array([-724., -907., -891., -640.]), array([-896., -931., -669., -927.]), array([-836., -969., -675., -507.]), array([ -789.,  -927.,  -882., -1038.]), array([-851., -742., -322., -255.]), array([ -887., -1089.,  -791.,  -720.]), array([-1020.,  -613.,  -222.,  -593.]), array([-584., -613., -378., -738.]), array([-718., -900., -704., -887.]), array([-956., -135., -560., -947.]), array([-473., -738., -798., -209.]), array([-778., -867., -893., -838.]), array([-602., -622., -311.,  583.]), array([-286., -540., -482., -200.]), array([-279., -161.,  428., -146.]), array([ 140., -277., -696., -338.]), array([-535.,   12., -738., -460.]), array([-257., -400.,  439., -120.]), array([-502., -257.,  131., -396.]), array([-522., -302., -684., -324.]), array([-197.,  250.,  179.,  159.]), array([  48.,  405.,   51., -445.]), array([-55., -17., 139., -66.]), array([-287.,   33.,  247.,  169.]), array([-54., -27.,  53.,  26.]), array([ 106.,  564., -101., -246.]), array([121.,   1., 243., 125.]), array([-466.,  297., -159., -235.]), array([142.,  75.,  52., 226.]), array([ -67., -216., -127., -214.]), array([  31.,   71.,  -47., -254.]), array([ -77.,   90.,  172., -146.]), array([ 170., -286.,   21.,  -57.]), array([-274.,   18., -156.,  -74.]), array([ 447., -562.,  329., -418.]), array([-94., 173.,  11.,  44.]), array([-104.,  132., -106.,   45.]), array([  45.,  160., -247.,  427.]), array([-74.,   2., -36., -34.]), array([ -65.,  142., -127.,  213.]), array([-88.,  61.,  61., 112.]), array([ -18.,  271.,  438., -194.]), array([-15.,  23., -86., -64.]), array([ 41., 279., -17., 174.]), array([ -26.,   -6.,  -66., -115.]), array([-104.,  163.,  143.,  -24.]), array([140., 120., 122.,  46.]), array([-64., 112., -17.,  45.]), array([-75.,  32.,  54., -24.]), array([-105.,  -76., -176.,  175.]), array([ 104.,  260.,  251., -134.]), array([ 125., -126.,  201.,  -15.]), array([ 25., -37.,  43., -44.]), array([124., 153., -16., -14.]), array([ 236.,  127., -396.,  433.]), array([ -6., 103.,  63.,  25.]), array([ -6., -46., 183.,  54.]), array([ -25., -116.,  -67.,  335.]), array([ 210.,  152.,  499., -104.]), array([-55., -86., -66.,  36.]), array([ -54.,   93.,  -49., -114.]), array([-34.,  64.,  84.,   6.]), array([-184.,   -8., -146.,  -15.]), array([-14., 104.,  33.,  86.]), array([-104.,  103.,  -46.,  -84.]), array([  3., -26., -26., -24.]), array([  73.,   42., -116.,  153.]), array([-104.,  143.,  143.,  -15.]), array([-184.,  241.,   63.,  -15.]), array([-45.,  82., -56.,  -5.]), array([ 222.,  342.,  153., -134.]), array([145., 163.,  32., -64.]), array([ 16.,  12., 134.,  56.]), array([ 16., -97.,  41., -64.]), array([104., -76.,  84., -54.]), array([ 34., -46., -26.,  -4.]), array([  6., -16.,  84.,   6.]), array([-54., -56., 153.,  75.]), array([-46., 370., -17., -44.]), array([ 43., 263., -86., 254.]), array([-34.,  44.,  24., -14.]), array([-164.,  181.,  161., -184.]), array([-95.,  81.,  43., -44.]), array([-34.,  84.,  64., -14.]), array([-74.,  -7., 193.,   6.]), array([ 54., 183., 172., -64.]), array([-14.,  44.,   4.,   6.]), array([56., 34., -6., -4.]), array([ 191., -136.,  144.,  124.]), array([  6.,   4.,   4., -14.]), array([16., 14., -6., 16.]), array([-44., 123.,  83.,  65.]), array([  6., 113., -16., -34.]), array([ 46.,  33.,  33., -14.]), array([ 24., 124., -16., -34.]), array([26., 24., 24.,  6.]), array([-104.,   14.,  194., -104.]), array([ 16., 203., -26.,  45.]), array([ 26., 113., -36., 115.]), array([ 6.,  4., 84.,  6.])]\n"
          ]
        }
      ]
    },
    {
      "cell_type": "code",
      "source": [
        "print(Q_table)"
      ],
      "metadata": {
        "colab": {
          "base_uri": "https://localhost:8080/"
        },
        "id": "ZiaTgtm9Jbq0",
        "outputId": "d243994a-53d1-4e76-d6cc-69526519b7d0"
      },
      "execution_count": null,
      "outputs": [
        {
          "output_type": "stream",
          "name": "stdout",
          "text": [
            "[[[  0.           0.           0.           0.           0.        ]\n",
            "  [  0.           0.           0.           0.           0.        ]\n",
            "  [  0.           0.           0.           0.           0.        ]\n",
            "  [ 89.00001049 100.          89.         100.         100.        ]\n",
            "  [ 80.89999567  79.99999908  79.99999943 100.          79.99999985]\n",
            "  [ 46.7213327   26.35390402  57.87941381  30.05064849  47.02921217]\n",
            "  [ 64.4933715   55.82952496  53.47024668  62.52826846  39.44874617]\n",
            "  [ 71.8153839   68.21415599  90.99998166  70.55846772  69.28897558]\n",
            "  [ 80.88254927 100.          80.89999978  80.53948988  79.99999999]\n",
            "  [ 73.53301996  91.          71.85687527  90.96269278  71.89998879]\n",
            "  [ 45.8738501   52.8129947   65.64223795  40.59382109  39.90362722]\n",
            "  [ 49.42276821  60.01318781  75.26254775  50.18680606  49.48786383]\n",
            "  [ 64.35741785  82.86692002  74.50012306  58.24748548  61.45638396]\n",
            "  [ 73.36350807  90.9998186   73.5482449   71.32650757  70.98731518]\n",
            "  [ 66.05630471  82.89989275  64.5592048   79.86523188  64.57644011]\n",
            "  [ 38.33410299  55.3138305   37.81666472  30.79857974  33.98552084]\n",
            "  [ 41.41837195  62.92086818  39.76432372  41.03642643  45.18050961]\n",
            "  [ 57.26445534  71.65977724  64.26985386  55.56128047  55.54366475]\n",
            "  [ 57.32269954  82.86232928  66.19213201  63.92067109  61.09607834]\n",
            "  [ 32.7755789   75.57479195  54.32588557  66.13526142  50.37013578]\n",
            "  [ 32.90123431  49.75616347  29.88530163  32.32717883  28.14567394]\n",
            "  [ 34.38807524  60.69465958  51.80000053  34.91830975  35.56613874]\n",
            "  [ 42.79299471  65.94625052  50.08077039  48.7101696   45.08460479]\n",
            "  [ 32.41245353  67.0211232   43.47127495  51.20453933  37.58411925]\n",
            "  [ 25.0386768   56.53666655  30.20400801  40.09336226  31.1685176 ]]\n",
            "\n",
            " [[  0.           0.           0.           0.           0.        ]\n",
            "  [  0.           0.           0.           0.           0.        ]\n",
            "  [ 89.04433257 100.         100.         100.         100.        ]\n",
            "  [  0.           0.           0.           0.           0.        ]\n",
            "  [ 58.94363036  52.92569284  49.78361281  49.69292078  43.36083138]\n",
            "  [ 62.60302888  59.62470535  69.67166773  62.5655215   55.60506195]\n",
            "  [ 64.44005902  55.28553761  89.3026366   59.82086301  53.91479586]\n",
            "  [ 77.46283628 100.          79.50249798  80.71704775  80.        ]\n",
            "  [ 59.82203868  54.7781008   60.30389683  90.7806165   48.93587347]\n",
            "  [ 59.12448794  56.87090803  55.27980297  60.83839078  55.12987981]\n",
            "  [ 56.74758738  67.35356088  66.92030571  51.32744663  55.08491769]\n",
            "  [ 62.79329369  77.31185543  68.22312171  60.93693234  55.3586746 ]\n",
            "  [ 66.63932907  88.60467417  66.82082866  69.6661845   65.1019905 ]\n",
            "  [ 61.99210141  54.37361193  58.40081495  78.89221163  55.26406959]\n",
            "  [ 56.94765212  56.69196871  53.26742103  67.12135642  50.37343303]\n",
            "  [ 53.02704974  62.9411171   59.10589968  49.37548701  49.54642954]\n",
            "  [ 55.63575262  66.43634824  51.13324454  55.27550598  55.57757188]\n",
            "  [ 60.93885374  78.02575103  56.35260083  62.16063557  58.46223786]\n",
            "  [ 46.50802459  62.12785177  55.6750078   69.60430728  48.30867402]\n",
            "  [ 47.4943069   60.06778439  45.48723474  64.33556367  45.63695963]\n",
            "  [ 38.96768231  54.57164517  45.92787872  43.59831421  40.75412552]\n",
            "  [ 49.02017832  66.12702425  47.14757619  47.50600962  47.84881121]\n",
            "  [ 50.01884053  60.5537945   51.73748982  57.05664155  52.51334021]\n",
            "  [ 40.47287235  47.80697241  42.89892951  62.50169879  37.47630732]\n",
            "  [ 12.016829    56.24472002  32.11298081  51.09642281  32.86820685]]\n",
            "\n",
            " [[  0.           0.           0.           0.           0.        ]\n",
            "  [ 97.65304217 100.         100.         100.         100.        ]\n",
            "  [  0.           0.           0.           0.           0.        ]\n",
            "  [  0.           0.           0.           0.           0.        ]\n",
            "  [ 47.06982404  30.95451091  16.30680899   8.90163331  19.51612136]\n",
            "  [ 64.29762627  67.19660485  90.99667458  67.4637213   67.41500439]\n",
            "  [ 80.41524762 100.          72.26826876  80.65918368  80.        ]\n",
            "  [ 48.92582597  44.53088937  46.49067962  90.55576622  58.40647114]\n",
            "  [ 50.11705138  47.35452034  47.77628073  50.35680583  42.08106668]\n",
            "  [ 48.27688595  48.36185778  47.560147    47.36452429  39.59488354]\n",
            "  [ 60.60993669  82.56070963  62.48925551  56.32694933  59.41130193]\n",
            "  [ 63.76942861  85.80696163  60.43943614  61.87780909  58.23197385]\n",
            "  [ 62.3433205   80.12397075  48.53715999  55.61589171  51.5678155 ]\n",
            "  [ 51.18226168  52.33261356  47.69481163  58.85316711  40.67436976]\n",
            "  [ 49.33677178  48.86449642  45.61436792  50.97801386  44.21803293]\n",
            "  [ 57.56941281  72.14457699  57.40021222  53.91811714  54.03029425]\n",
            "  [ 55.54924215  71.01110676  57.13088096  59.42729247  53.06430311]\n",
            "  [ 47.03818962  69.87663891  49.93638296  53.11672744  48.20580495]\n",
            "  [ 48.58852035  49.44725866  49.04674478  50.77183219  40.63075524]\n",
            "  [ 48.34508397  53.76517634  42.38640665  51.0277057   43.47655513]\n",
            "  [ 49.52364551  62.50757296  56.44061553  47.5081622   50.01612704]\n",
            "  [ 44.75958282  53.56367275  49.53084953  54.71666635  54.45747623]\n",
            "  [ 43.14281122  60.66708308  45.42468875  51.43292836  41.88118149]\n",
            "  [ 39.91933925  50.07749042  48.01714116  50.40352068  43.85703369]\n",
            "  [ 35.56294023  51.49656966  38.22753661  55.60143074  37.88860543]]\n",
            "\n",
            " [[ 89.00023125 100.         100.         100.         100.        ]\n",
            "  [  0.           0.           0.           0.           0.        ]\n",
            "  [  0.           0.           0.           0.           0.        ]\n",
            "  [  0.           0.           0.           0.           0.        ]\n",
            "  [ 36.59623862  27.01143408  25.66751584  28.03896485  28.02390249]\n",
            "  [ 79.57552541 100.          65.00789501  79.99999999  80.        ]\n",
            "  [ 71.98103618  52.63151701  51.73233244  60.61926154  54.8241582 ]\n",
            "  [ 47.54343208  39.1552247   46.92083432  65.04331189  45.2830944 ]\n",
            "  [ 33.52261849  23.84744851  33.7321935   32.10465636  31.54142153]\n",
            "  [ 34.5993528   36.86550079  27.32407142  36.90388795  25.76587891]\n",
            "  [ 68.91210382  90.99996398  66.18118557  67.13907571  64.35763705]\n",
            "  [ 63.57292497  62.46010633  58.78104165  82.85080181  62.15213213]\n",
            "  [ 50.76483665  47.04133779  44.20978543  48.53420569  47.79975925]\n",
            "  [ 39.63896724  41.71406222  37.42735009  52.41370156  37.58848804]\n",
            "  [ 36.67307016  36.08690945  28.98225029  35.22281828  28.95778377]\n",
            "  [ 64.63317165  82.8198352   54.81583765  61.48709904  62.1481535 ]\n",
            "  [ 55.98799795  65.96670583  55.70741909  54.00174037  48.63307254]\n",
            "  [ 49.7796248   48.58226509  40.08113254  62.69114107  46.42035158]\n",
            "  [ 42.22930864  43.52937355  36.27415681  41.8531816   36.35897617]\n",
            "  [ 41.48772944  36.54771772  29.39200187  40.85021431  31.53328001]\n",
            "  [ 47.74733903  75.37010602  55.69890665  51.18984496  47.09120665]\n",
            "  [ 47.52803032  48.08602909  51.04429276  67.45416374  47.43301414]\n",
            "  [ 39.16951884  50.08410243  41.86751026  60.26210724  40.65892428]\n",
            "  [ 35.09073686  40.26347323  41.82307289  53.83582838  35.25763294]\n",
            "  [ 32.87066223  39.32354533  32.81010164  45.65662725  31.52142123]]]\n"
          ]
        }
      ]
    },
    {
      "cell_type": "code",
      "source": [
        "labels = []\n",
        "for agent in range(n_agents): labels.append(f'agent {agent+1}')\n",
        "plt.plot(total_episode_reward)\n",
        "plt.ylabel('Reward')\n",
        "plt.xlabel('Episode')\n",
        "plt.title('Reward per Episode')\n",
        "#plt.xticks(np.arange(len(total_episode_reward)), np.arange(1, len(total_episode_reward)+1))\n",
        "plt.xticks(np.arange(0, len(total_episode_reward), step=10))\n",
        "plt.legend(labels)"
      ],
      "metadata": {
        "colab": {
          "base_uri": "https://localhost:8080/",
          "height": 313
        },
        "id": "HCSjMdr9JeRK",
        "outputId": "f71a9ca9-c362-44b0-f333-d49454d2dfb9"
      },
      "execution_count": null,
      "outputs": [
        {
          "output_type": "execute_result",
          "data": {
            "text/plain": [
              "<matplotlib.legend.Legend at 0x7f8da3c8bca0>"
            ]
          },
          "metadata": {},
          "execution_count": 26
        },
        {
          "output_type": "display_data",
          "data": {
            "text/plain": [
              "<Figure size 432x288 with 1 Axes>"
            ],
            "image/png": "[encoded data removed]"
          },
          "metadata": {
            "needs_background": "light"
          }
        }
      ]
    },
    {
      "cell_type": "code",
      "source": [
        "plt.plot(exploration_decay)\n",
        "plt.ylabel('Epsilon')\n",
        "plt.xlabel('Episode')\n",
        "plt.title('Epsilon Decay')"
      ],
      "metadata": {
        "colab": {
          "base_uri": "https://localhost:8080/",
          "height": 313
        },
        "id": "4ki-hwMgJiKD",
        "outputId": "c0989615-ce94-4612-9737-1e09fee7b403"
      },
      "execution_count": null,
      "outputs": [
        {
          "output_type": "execute_result",
          "data": {
            "text/plain": [
              "Text(0.5, 1.0, 'Epsilon Decay')"
            ]
          },
          "metadata": {},
          "execution_count": 27
        },
        {
          "output_type": "display_data",
          "data": {
            "text/plain": [
              "<Figure size 432x288 with 1 Axes>"
            ],
            "image/png": "[encoded data removed]"
          },
          "metadata": {
            "needs_background": "light"
          }
        }
      ]
    },
    {
      "cell_type": "code",
      "source": [
        "plt.plot(timesteps_per_episode)\n",
        "plt.ylabel('Timsteps')\n",
        "plt.xlabel('Episode')\n",
        "plt.title('Timsteps per Episode')"
      ],
      "metadata": {
        "colab": {
          "base_uri": "https://localhost:8080/",
          "height": 313
        },
        "id": "RdW6Gcd-JmIx",
        "outputId": "dcff5dd3-17dc-4a75-d24b-c06c5152eaf6"
      },
      "execution_count": null,
      "outputs": [
        {
          "output_type": "execute_result",
          "data": {
            "text/plain": [
              "Text(0.5, 1.0, 'Timsteps per Episode')"
            ]
          },
          "metadata": {},
          "execution_count": 28
        },
        {
          "output_type": "display_data",
          "data": {
            "text/plain": [
              "<Figure size 432x288 with 1 Axes>"
            ],
            "image/png": "[encoded data removed]"
          },
          "metadata": {
            "needs_background": "light"
          }
        }
      ]
    },
    {
      "cell_type": "code",
      "source": [
        "if __name__=='__main__':\n",
        "  # Initialize Constants\n",
        "  n_agents = config['N_AGENTS']\n",
        "  size = config['GRID_SIZE']\n",
        "  n_episodes = 10\n",
        "  max_steps_episode = config['MAX_STEPS_PER_EPI']\n",
        "  #exploration_rate = config['EXPL_RATE']\n",
        "  #exploration_decay_rate = config['EXPL_DECAY_RATE']\n",
        "  #min_exploration_rate = config['MIN_EXPL_RATE']\n",
        "  #gamma = config['GAMMA']\n",
        "  #lr = config['ALPHA']\n",
        "\n",
        "  # Make new Grid World\n",
        "  env = MAGridWorld(size=size, n_agents=n_agents)\n",
        "  n_observations = env.observation_space.n\n",
        "  n_actions = env.action_space.n\n",
        "\n",
        "  # Initialize Q-table to Optimal Policy Q-table\n",
        "  optimal_q = Q_table\n",
        "\n",
        "  # total Episode Reward\n",
        "  total_episode_reward = []\n",
        "  timesteps_per_episode = []\n",
        "  exploration_decay = []\n",
        "  # Iterate over episodes\n",
        "  for episode in range(n_episodes):\n",
        "\n",
        "\n",
        "    current_state = env.reset()\n",
        "    i = 1\n",
        "\n",
        "    episode_reward = np.zeros((n_agents))\n",
        "\n",
        "    # while max timesteps or termination condition not met\n",
        "    while not all(env.done):\n",
        "      action_n = []\n",
        "\n",
        "\n",
        "      #exploit best actions using optimal q table\n",
        "      for n in range(n_agents):\n",
        "        action_n.append(np.argmax(optimal_q[n, current_state[n], :]))\n",
        "\n",
        "      # Environment runs the chosen action and returns the next state,\n",
        "      # rewards, and true if episode ended\n",
        "      next_state, rewards, done, _ = env.step(action_n)\n",
        "      episode_reward[0:] += rewards[0:]\n",
        "\n",
        "\n",
        "      current_state = next_state\n",
        "      print(f'Episode {episode + 1}:')\n",
        "      print(f'Timestep {i}')\n",
        "      i += 1\n",
        "      print('Actions: ', action_n)\n",
        "      print('Next State: ', next_state)\n",
        "      print('Reward: ', rewards)\n",
        "      print('Episode Reward: ', episode_reward)\n",
        "      print('Done: ', done)\n",
        "      print('\\n')\n",
        "      plt.figure()\n",
        "      env.render()\n",
        "      plt.show()\n",
        "      time.sleep(.1)\n",
        "      clear_output(wait=True)\n",
        "\n",
        "    timesteps_per_episode.append(env._timestep)\n",
        "\n",
        "    total_episode_reward.append(episode_reward)\n"
      ],
      "metadata": {
        "colab": {
          "base_uri": "https://localhost:8080/",
          "height": 240
        },
        "id": "i5FXwDGPKRT5",
        "outputId": "cfb6a80b-2a42-4b3b-ec68-b95b4a500f7b"
      },
      "execution_count": null,
      "outputs": [
        {
          "output_type": "error",
          "ename": "NameError",
          "evalue": "ignored",
          "traceback": [
            "\u001b[0;31m---------------------------------------------------------------------------\u001b[0m",
            "\u001b[0;31mNameError\u001b[0m                                 Traceback (most recent call last)",
            "\u001b[0;32m<ipython-input-6-ba11d3d814af>\u001b[0m in \u001b[0;36m<module>\u001b[0;34m\u001b[0m\n\u001b[1;32m     12\u001b[0m \u001b[0;34m\u001b[0m\u001b[0m\n\u001b[1;32m     13\u001b[0m   \u001b[0;31m# Make new Grid World\u001b[0m\u001b[0;34m\u001b[0m\u001b[0;34m\u001b[0m\u001b[0;34m\u001b[0m\u001b[0m\n\u001b[0;32m---> 14\u001b[0;31m   \u001b[0menv\u001b[0m \u001b[0;34m=\u001b[0m \u001b[0mMAGridWorld\u001b[0m\u001b[0;34m(\u001b[0m\u001b[0msize\u001b[0m\u001b[0;34m=\u001b[0m\u001b[0msize\u001b[0m\u001b[0;34m,\u001b[0m \u001b[0mn_agents\u001b[0m\u001b[0;34m=\u001b[0m\u001b[0mn_agents\u001b[0m\u001b[0;34m)\u001b[0m\u001b[0;34m\u001b[0m\u001b[0;34m\u001b[0m\u001b[0m\n\u001b[0m\u001b[1;32m     15\u001b[0m   \u001b[0mn_observations\u001b[0m \u001b[0;34m=\u001b[0m \u001b[0menv\u001b[0m\u001b[0;34m.\u001b[0m\u001b[0mobservation_space\u001b[0m\u001b[0;34m.\u001b[0m\u001b[0mn\u001b[0m\u001b[0;34m\u001b[0m\u001b[0;34m\u001b[0m\u001b[0m\n\u001b[1;32m     16\u001b[0m   \u001b[0mn_actions\u001b[0m \u001b[0;34m=\u001b[0m \u001b[0menv\u001b[0m\u001b[0;34m.\u001b[0m\u001b[0maction_space\u001b[0m\u001b[0;34m.\u001b[0m\u001b[0mn\u001b[0m\u001b[0;34m\u001b[0m\u001b[0;34m\u001b[0m\u001b[0m\n",
            "\u001b[0;31mNameError\u001b[0m: name 'MAGridWorld' is not defined"
          ]
        }
      ]
    },
    {
      "cell_type": "code",
      "source": [
        "labels = []\n",
        "for agent in range(n_agents): labels.append(f'agent {agent+1}')\n",
        "plt.plot(total_episode_reward)\n",
        "plt.ylabel('Reward')\n",
        "plt.xlabel('Episode')\n",
        "plt.title('Reward at each Episode')\n",
        "#plt.xticks(np.arange(len(total_episode_reward)), np.arange(1, len(total_episode_reward)+1))\n",
        "plt.xticks(np.arange(0, len(total_episode_reward)))\n",
        "plt.legend(labels)"
      ],
      "metadata": {
        "colab": {
          "base_uri": "https://localhost:8080/",
          "height": 313
        },
        "id": "9c07inASKkct",
        "outputId": "894faf98-c6ec-44a0-b1f8-0147dc8a5d81"
      },
      "execution_count": null,
      "outputs": [
        {
          "output_type": "execute_result",
          "data": {
            "text/plain": [
              "<matplotlib.legend.Legend at 0x7f8da3be0040>"
            ]
          },
          "metadata": {},
          "execution_count": 30
        },
        {
          "output_type": "display_data",
          "data": {
            "text/plain": [
              "<Figure size 432x288 with 1 Axes>"
            ],
            "image/png": "[encoded data removed]"
          },
          "metadata": {
            "needs_background": "light"
          }
        }
      ]
    },
    {
      "cell_type": "code",
      "source": [
        "plt.plot(timesteps_per_episode)\n",
        "plt.ylabel('Timsteps')\n",
        "plt.xlabel('Episode')\n",
        "plt.title('Timsteps per Episode')"
      ],
      "metadata": {
        "colab": {
          "base_uri": "https://localhost:8080/",
          "height": 313
        },
        "id": "F9raReQGKlDc",
        "outputId": "dd0ab753-ec64-40f3-e1c4-1f27f062e761"
      },
      "execution_count": null,
      "outputs": [
        {
          "output_type": "execute_result",
          "data": {
            "text/plain": [
              "Text(0.5, 1.0, 'Timsteps per Episode')"
            ]
          },
          "metadata": {},
          "execution_count": 31
        },
        {
          "output_type": "display_data",
          "data": {
            "text/plain": [
              "<Figure size 432x288 with 1 Axes>"
            ],
            "image/png": "[encoded data removed]"
          },
          "metadata": {
            "needs_background": "light"
          }
        }
      ]
    },
    {
      "cell_type": "code",
      "source": [
        "config = {\n",
        "    # number of agents\n",
        "    'N_AGENTS' : 4,\n",
        "\n",
        "    # grid world size 3x3, 4x4,...6x6\n",
        "    'GRID_SIZE' : 5,\n",
        "\n",
        "    # number of episodes that will run\n",
        "    'NUM_EPI': 500,\n",
        "\n",
        "    # max timesteps\n",
        "    'MAX_STEPS_PER_EPI': 200,\n",
        "\n",
        "    # initialize exploration rate to 1\n",
        "    'EXPL_RATE': 1,\n",
        "\n",
        "    # epsilon decay rate\n",
        "    'EXPL_DECAY_RATE': 0.01,\n",
        "\n",
        "    # minimum epsilon rate\n",
        "    'MIN_EXPL_RATE': 0.01,\n",
        "\n",
        "    # learning rate\n",
        "    'ALPHA': 0.7,\n",
        "\n",
        "    # discount factor\n",
        "    'GAMMA': 0.9\n",
        "}"
      ],
      "metadata": {
        "id": "LovExhnjM2rU"
      },
      "execution_count": null,
      "outputs": []
    },
    {
      "cell_type": "code",
      "source": [
        "import numpy as np\n",
        "import gym\n",
        "from gym import spaces\n",
        "import copy\n",
        "from copy import copy\n",
        "import matplotlib.pyplot as plt\n",
        "import random\n",
        "import time\n",
        "\n",
        "%matplotlib inline\n",
        "\n",
        "class MAGridWorld(gym.Env):\n",
        "    metadata = { 'render.modes' : ['human', 'rgb_array'] }\n",
        "\n",
        "    def __init__(self, size, n_agents):\n",
        "        self.size = size\n",
        "        self._grid_size = (self.size, self.size)\n",
        "        self.world = np.zeros((self._grid_size))\n",
        "        self._timestep = None\n",
        "        self._max_timestep = config['MAX_STEPS_PER_EPI']\n",
        "        self.n_agents = n_agents\n",
        "        self.dist = int((self.size-1)/(n_agents-1))\n",
        "        self._step_cost = -0.1\n",
        "        self.num_of_states = self.size * self.size\n",
        "        self.observation_space = spaces.Discrete(self.num_of_states)\n",
        "        self.action_space = spaces.Discrete(5)\n",
        "\n",
        "\n",
        "\n",
        "    def reset(self):\n",
        "        self.agent_pos = []\n",
        "        self.goal_pos = []\n",
        "        self._timestep = 0\n",
        "        self.done = [False for i in range(self.n_agents)]\n",
        "        for i in range(self.n_agents):\n",
        "            self.agent_pos.append([self.size-1, i*self.dist])\n",
        "            self.goal_pos.append([0, i*self.dist])\n",
        "        self.goal_pos.reverse()\n",
        "\n",
        "\n",
        "        observation = self._pos_to_state(self.agent_pos)\n",
        "        return observation\n",
        "\n",
        "    def _compute_distance(self, x, y):\n",
        "        dist = np.abs(x[0]-y[0]) + np.abs(x[1]-y[1])\n",
        "        return dist\n",
        "\n",
        "    def _is_inside_grid(self, pos):\n",
        "        return (0 <= pos[0] < self._grid_size[0]) and (0 <= pos[1] < self._grid_size[1])\n",
        "\n",
        "    def _is_collision(self, new_pos, agent):\n",
        "        for i in range(self.n_agents):\n",
        "            if i == agent:\n",
        "                continue\n",
        "            elif new_pos == self.agent_pos[i]:\n",
        "                return True\n",
        "            elif new_pos == self.goal_pos[i]:\n",
        "                return True\n",
        "\n",
        "    def _pos_to_state(self, positions):\n",
        "      pos_list = []\n",
        "      state_list = []\n",
        "      state_dict = {}\n",
        "      for x in range(self.size):\n",
        "        for y in range(self.size):\n",
        "          pos_list.append(f'[{x}, {y}]')\n",
        "\n",
        "      for i, val in enumerate(pos_list):\n",
        "        state_dict[i] = val\n",
        "\n",
        "      pos_to_state_dict = {v: k for k, v in state_dict.items()}\n",
        "      state_list = [pos_to_state_dict[str(x)] for x in positions]\n",
        "      return state_list\n",
        "\n",
        "    def step(self, actions):\n",
        "        self._timestep += 1\n",
        "        old_pos = self.agent_pos.copy()\n",
        "        rewards = [0 for _ in range(self.n_agents)]\n",
        "\n",
        "        for i in range(self.n_agents):\n",
        "            self.update_agent_pos(i, actions[i])\n",
        "            old_dist = self._compute_distance(old_pos[i], self.goal_pos[i])\n",
        "            new_dist = self._compute_distance(self.agent_pos[i], self.goal_pos[i])\n",
        "\n",
        "            if new_dist < old_dist:\n",
        "                rewards[i] = 1\n",
        "            elif new_dist > old_dist:\n",
        "                rewards[i] = -1\n",
        "\n",
        "            elif (new_dist == old_dist) and not self.done[i]:\n",
        "                rewards[i] = -10\n",
        "\n",
        "            if (self.agent_pos[i] == self.goal_pos[i]):\n",
        "                self.done[i] = True\n",
        "                rewards[i] = 10\n",
        "            else:\n",
        "                self.done[i] = False\n",
        "\n",
        "\n",
        "        if self._timestep >= self._max_timestep:\n",
        "            self.done = [True for i in range(self.n_agents)]\n",
        "\n",
        "\n",
        "        observation = self._pos_to_state(self.agent_pos)\n",
        "        info = {}\n",
        "        return observation, rewards, self.done, info #all(done)\n",
        "\n",
        "\n",
        "    def update_agent_pos(self, agent, action):\n",
        "        next_pos = copy(self.agent_pos[agent])\n",
        "        if action == 0: # Down\n",
        "            next_pos[0] += 1\n",
        "        elif action == 1: # Up\n",
        "            next_pos[0] -= 1\n",
        "        elif action == 2: # Right\n",
        "            next_pos[1] += 1\n",
        "        elif action == 3: # Left\n",
        "            next_pos[1] -= 1\n",
        "        elif action == 4: # No move\n",
        "            pass\n",
        "        else:\n",
        "            raise Exception('Action is not valid')\n",
        "\n",
        "        if self._is_inside_grid(next_pos) and not self._is_collision(next_pos, agent):\n",
        "            self.agent_pos[agent] = next_pos\n",
        "        else:\n",
        "            pass\n",
        "\n",
        "\n",
        "    def render(self):\n",
        "        state = np.copy(self.world)\n",
        "        for i in range(self.n_agents):\n",
        "            state[tuple(self.agent_pos[i])] = 1 - (0.1 * i)\n",
        "            state[tuple(self.goal_pos[i])] = 1 - (0.1 * i)\n",
        "        return plt.imshow(state)"
      ],
      "metadata": {
        "id": "dTXH0aFaNA3B"
      },
      "execution_count": null,
      "outputs": []
    },
    {
      "cell_type": "code",
      "source": [
        "from IPython.display import clear_output"
      ],
      "metadata": {
        "id": "ksPt4stsNBo9"
      },
      "execution_count": null,
      "outputs": []
    },
    {
      "cell_type": "code",
      "source": [
        "if __name__ == '__main__':\n",
        "\n",
        "  # Initialize Constants\n",
        "  n_agents = config['N_AGENTS']\n",
        "  size = config['GRID_SIZE']\n",
        "  n_episodes = config['NUM_EPI']\n",
        "  max_steps_episode = config['MAX_STEPS_PER_EPI']\n",
        "  exploration_rate = config['EXPL_RATE']\n",
        "  exploration_decay_rate = config['EXPL_DECAY_RATE']\n",
        "  min_exploration_rate = config['MIN_EXPL_RATE']\n",
        "  gamma = config['GAMMA']\n",
        "  lr = config['ALPHA']\n",
        "\n",
        "  # Make new Grid World\n",
        "  env = MAGridWorld(size=size, n_agents=n_agents)\n",
        "  n_observations = env.observation_space.n\n",
        "  n_actions = env.action_space.n\n",
        "\n",
        "  # Initialize Q-table to 0\n",
        "  Q_table = np.zeros((n_agents, n_observations, n_actions))\n",
        "  #print(Q_table)\n",
        "\n",
        "  # total Episode Reward\n",
        "  total_episode_reward = []\n",
        "  timesteps_per_episode = []\n",
        "  exploration_decay = []\n",
        "  # Iterate over episodes\n",
        "  for episode in range(n_episodes):\n",
        "\n",
        "\n",
        "    current_state = env.reset()\n",
        "    i = 1\n",
        "\n",
        "    episode_reward = np.zeros((n_agents))\n",
        "\n",
        "    # while max timesteps or termination condition not met\n",
        "    while not all(env.done):\n",
        "      action_n = []\n",
        "\n",
        "      # if exploration rate is greater than random numb from 0-1\n",
        "      if np.random.uniform(0,1) < exploration_rate:\n",
        "\n",
        "        # Take Random Action\n",
        "        action_n = [env.action_space.sample(), env.action_space.sample(), \\\n",
        "                      env.action_space.sample(), env.action_space.sample(), \\\n",
        "                      env.action_space.sample(), env.action_space.sample()]\n",
        "      # if exploration rate below random num from 0-1\n",
        "      else:\n",
        "        #exploit best actions using q_table\n",
        "        for n in range(n_agents):\n",
        "          action_n.append(np.argmax(Q_table[n, current_state[n], :]))\n",
        "\n",
        "      # Environment runs the chosen action and returns the next state,\n",
        "      # rewards, and true if episode ended\n",
        "      next_state, rewards, done, _ = env.step(action_n)\n",
        "      episode_reward[0:] += rewards[0:]\n",
        "\n",
        "      # Update Q-table\n",
        "      for n in range(n_agents):\n",
        "        Q_table[n, current_state[n], action_n[n]] = (1-lr) * Q_table[n, current_state[n], action_n[n]] + lr * (rewards[n] + gamma * max(Q_table[n, next_state[n], :]))\n",
        "\n",
        "      current_state = next_state\n",
        "      # print(f'Episode {episode + 1}:')\n",
        "      # print(f'Timestep {i}')\n",
        "      # i += 1\n",
        "      # print('Actions: ', action_n)\n",
        "      # print('Next State: ', next_state)\n",
        "      # print('Reward: ', rewards)\n",
        "      # print('Episode Reward: ', episode_reward)\n",
        "      # print('Done: ', done)\n",
        "      # print('\\n')\n",
        "      # plt.figure()\n",
        "      # env.render()\n",
        "      # plt.show()\n",
        "      # time.sleep(.01)\n",
        "      # clear_output(wait=True)\n",
        "\n",
        "    timesteps_per_episode.append(env._timestep)\n",
        "    # Update exploration rate using decay formula\n",
        "    exploration_decay.append(exploration_rate)\n",
        "    exploration_rate = max(min_exploration_rate, np.exp(-exploration_decay_rate*episode))\n",
        "    total_episode_reward.append(episode_reward)"
      ],
      "metadata": {
        "id": "xsEqkqJjNDv3"
      },
      "execution_count": null,
      "outputs": []
    },
    {
      "cell_type": "code",
      "source": [
        "labels = []\n",
        "for agent in range(n_agents): labels.append(f'agent {agent+1}')\n",
        "plt.plot(total_episode_reward)\n",
        "plt.ylabel('Reward')\n",
        "plt.xlabel('Episode')\n",
        "plt.title('Reward per Episode')\n",
        "#plt.xticks(np.arange(len(total_episode_reward)), np.arange(1, len(total_episode_reward)+1))\n",
        "#plt.xticks(np.arange(0, len(total_episode_reward), step=10))\n",
        "plt.legend(labels)"
      ],
      "metadata": {
        "colab": {
          "base_uri": "https://localhost:8080/",
          "height": 313
        },
        "id": "Pwz5VtrqNXsq",
        "outputId": "32f86db1-a83d-4308-d1be-712a694959c7"
      },
      "execution_count": null,
      "outputs": [
        {
          "output_type": "execute_result",
          "data": {
            "text/plain": [
              "<matplotlib.legend.Legend at 0x7f8da4294dc0>"
            ]
          },
          "metadata": {},
          "execution_count": 36
        },
        {
          "output_type": "display_data",
          "data": {
            "text/plain": [
              "<Figure size 432x288 with 1 Axes>"
            ],
            "image/png": "[encoded data removed]"
          },
          "metadata": {
            "needs_background": "light"
          }
        }
      ]
    },
    {
      "cell_type": "code",
      "source": [
        "plt.plot(exploration_decay)\n",
        "plt.ylabel('Epsilon')\n",
        "plt.xlabel('Episode')\n",
        "plt.title('Epsilon Decay')"
      ],
      "metadata": {
        "colab": {
          "base_uri": "https://localhost:8080/",
          "height": 313
        },
        "id": "JOM5e2ATNaOX",
        "outputId": "48984669-37bc-4be2-e1b2-36b03e51274b"
      },
      "execution_count": null,
      "outputs": [
        {
          "output_type": "execute_result",
          "data": {
            "text/plain": [
              "Text(0.5, 1.0, 'Epsilon Decay')"
            ]
          },
          "metadata": {},
          "execution_count": 37
        },
        {
          "output_type": "display_data",
          "data": {
            "text/plain": [
              "<Figure size 432x288 with 1 Axes>"
            ],
            "image/png": "[encoded data removed]"
          },
          "metadata": {
            "needs_background": "light"
          }
        }
      ]
    },
    {
      "cell_type": "code",
      "source": [
        "plt.plot(timesteps_per_episode)\n",
        "plt.ylabel('Timsteps')\n",
        "plt.xlabel('Episode')\n",
        "plt.title('Timsteps per Episode')"
      ],
      "metadata": {
        "colab": {
          "base_uri": "https://localhost:8080/",
          "height": 313
        },
        "id": "w7L6MpB4NeSD",
        "outputId": "94a87054-ba23-483e-a888-1acab0100994"
      },
      "execution_count": null,
      "outputs": [
        {
          "output_type": "execute_result",
          "data": {
            "text/plain": [
              "Text(0.5, 1.0, 'Timsteps per Episode')"
            ]
          },
          "metadata": {},
          "execution_count": 38
        },
        {
          "output_type": "display_data",
          "data": {
            "text/plain": [
              "<Figure size 432x288 with 1 Axes>"
            ],
            "image/png": "[encoded data removed]"
          },
          "metadata": {
            "needs_background": "light"
          }
        }
      ]
    },
    {
      "cell_type": "code",
      "source": [
        "import tensorflow as tf\n"
      ],
      "metadata": {
        "id": "iRnYbNk57MYi"
      },
      "execution_count": null,
      "outputs": []
    },
    {
      "cell_type": "markdown",
      "source": [
        "### Deep Q-Learning"
      ],
      "metadata": {
        "id": "hth3aH3qc26a"
      }
    },
    {
      "cell_type": "code",
      "source": [
        "class DqnAgent:\n",
        "\n",
        "\n",
        "  def __init__(self):\n",
        "    self.q_net = self._build_dqn_model()\n",
        "    self.target_q_net = self._build_dqn_model()\n",
        "\n",
        "  def policy(self, state):\n",
        "    state_input = tf.convert_to_tensor(state[None, :], dtype=tf.float32)\n",
        "    action_q = self.q_net(state_input)\n",
        "    action = np.argmax(action_q.numpy()[0], axis=0)\n",
        "    return action\n",
        "\n",
        "  def train(self, batch):\n",
        "    state_batch, next_state_batch, action_batch, reward_batch, done_batch = batch\n",
        "    current_q = self.q_net(state_batch)\n",
        "    target_q = np.copy(current_q)\n",
        "    next_q = self.target_q_net(next_state_batch)\n",
        "    max_next_q = np.amax(next_q, axis=1)\n",
        "    for i in range(state_batch.shape[0]):\n",
        "        target_q[i][action_batch[i]] = reward_batch[i] if done_batch[i] else reward_batch[i] + 0.95 * max_next_q[i]\n",
        "    result = self.q_net.fit(x=state_batch, y=target_q)\n",
        "    return result.history['loss']"
      ],
      "metadata": {
        "id": "3Pdm9Gric45c"
      },
      "execution_count": null,
      "outputs": []
    },
    {
      "cell_type": "code",
      "source": [
        "class ReplayBuffer:\n",
        "  def __init__(self):\n",
        "    self.gameplay_experiences = deque(maxlen=1000000)\n",
        "\n",
        "  def store_gameplay_experience(self, state, next_state, reward, action, done):\n",
        "    self.gameplay_experiences.append((state, next_state, reward, action, done))\n",
        "\n",
        "  def sample_gameplay_batch(self):\n",
        "    batch_size = min(128, len(self.gameplay_experiences))\n",
        "    sampled_gameplay_batch = random.sample(self.gameplay_experiences, batch_size)\n",
        "    state_batch, next_state_batch, action_batch, reward_batch, done_batch = [], [], [], [], []\n",
        "    for gameplay_experience in sampled_gameplay_batch:\n",
        "      state_batch.append(gameplay_experience[0])\n",
        "      next_state_batch.append(gameplay_experience[1])\n",
        "      reward_batch.append(gameplay_experience[2])\n",
        "      action_batch.append(gameplay_experience[3])\n",
        "      done_batch.append(gameplay_experience[4])\n",
        "    return np.array(state_batch), np.array(next_state_batch), action_batch, reward_batch, done_batch"
      ],
      "metadata": {
        "id": "yZ0ZYClvnZ-4"
      },
      "execution_count": null,
      "outputs": []
    },
    {
      "cell_type": "code",
      "source": [
        "def collect_gameplay_experience(env, agent, buffer):\n",
        "\n",
        "  state = env.reset()\n",
        "  done = False\n",
        "  while not done:\n",
        "    action = agent.policy(state)\n",
        "    next_state, reward, done = env.step(action)\n",
        "    buffer.store_gameplay_experience(state, next_state, reward, action, done)\n",
        "    state = next_state\n",
        "\n",
        "def train_model():\n",
        "\n",
        "  env = MAGridWorld_1()\n",
        "  agent = DqnAgent()\n",
        "  buffer = ReplayBuffer()\n",
        "  for episode_cnt in range(6000): # Train the agent for 6000 episodes of the game\n",
        "    collect_gameplay_experience(env, agent, buffer)\n",
        "    gameplay_experience_batch = buffer.sample_gameplay_batch()\n",
        "    loss = agent.train(gameplay_experience_batch)\n",
        "    if episode_cnt % 20 == 0:\n",
        "      agent.update_target_network()"
      ],
      "metadata": {
        "id": "Yg4cmQiWndyD"
      },
      "execution_count": null,
      "outputs": []
    },
    {
      "cell_type": "code",
      "source": [
        "@staticmethod\n",
        "def _build_dqn_model():\n",
        "\n",
        "    q_network = Sequential()\n",
        "    q_network.add(Dense(64, input_dim=4, activation='relu', kernel_initializer='he_uniform'))\n",
        "    q_network.add(Dense(32, activation='relu', kernel_initializer='he_uniform'))\n",
        "    q_network.add(Dense(2, activation='linear', kernel_initializer='he_uniform'))\n",
        "    q_network.compile(optimizer=tf.optimizers.Adam(learning_rate=0.001), loss='mse')\n",
        "    return q_network"
      ],
      "metadata": {
        "id": "Gwi0-23v2pTq"
      },
      "execution_count": null,
      "outputs": []
    },
    {
      "cell_type": "code",
      "source": [],
      "metadata": {
        "id": "0qwtwPaM7HFP"
      },
      "execution_count": null,
      "outputs": []
    },
    {
      "cell_type": "markdown",
      "source": [
        "## Setup 2"
      ],
      "metadata": {
        "id": "LtGuoVMxdDA4"
      }
    },
    {
      "cell_type": "markdown",
      "source": [
        "### Environment Set Up"
      ],
      "metadata": {
        "id": "yXQ45Bib1cXy"
      }
    },
    {
      "cell_type": "code",
      "source": [
        "import numpy as np\n",
        "import gym\n",
        "from gym import spaces\n",
        "import copy\n",
        "from copy import copy\n",
        "import matplotlib.pyplot as plt\n",
        "import random\n",
        "import time\n",
        "\n",
        "%matplotlib inline\n",
        "\n",
        "class MAGridWorld2(gym.Env):\n",
        "    metadata = { 'render.modes' : ['human', 'rgb_array'] }\n",
        "\n",
        "    def __init__(self, size, n_agents):\n",
        "        self.size = size\n",
        "        self._grid_size = (self.size, self.size)\n",
        "        self.world = np.zeros((self._grid_size))\n",
        "        self._timestep = None\n",
        "        self._max_timestep = 200\n",
        "        self.n_agents = n_agents\n",
        "        self.dist = int((self.size-1)/(n_agents-1))\n",
        "        self._step_cost = -0.1\n",
        "        self.observation_space = spaces.Discrete(self.size * self.size)\n",
        "        self.action_space = spaces.Discrete(5)\n",
        "\n",
        "    def reset(self):\n",
        "        self.agent_pos = []\n",
        "        self.goal_pos = [np.random.randint(self.size-1), 0]\n",
        "        self._timestep = 0\n",
        "        self.done = [False for i in range(self.n_agents)]\n",
        "        #self.q_tables = []\n",
        "        for i in range(self.n_agents):\n",
        "            self.agent_pos.append([self.size-1, i*self.dist])\n",
        "            # self.goal_pos.append([0, i*self.dist])\n",
        "            #self.q_tables.append(np.zeros((self.size*self.size, 4)))\n",
        "\n",
        "        self.goal_pos.reverse()\n",
        "        observation = self._pos_to_state(self.agent_pos)\n",
        "        return observation\n",
        "\n",
        "    def _compute_distance(self, x, y):\n",
        "        dist = np.abs(x[0]-y[0]) + np.abs(x[1]-y[1])\n",
        "        return dist\n",
        "\n",
        "    def _is_inside_grid(self, pos):\n",
        "        return (0 <= pos[0] < self._grid_size[0]) and (0 <= pos[1] < self._grid_size[1])\n",
        "\n",
        "    def _is_collision(self, new_pos, agent):\n",
        "        for i in range(self.n_agents):\n",
        "            if i == agent:\n",
        "                continue\n",
        "            elif new_pos == self.goal_pos:\n",
        "                return False\n",
        "            elif new_pos == self.agent_pos[i]:\n",
        "                return True\n",
        "\n",
        "    def _pos_to_state(self, positions):\n",
        "      pos_list = []\n",
        "      state_list = []\n",
        "      state_dict = {}\n",
        "      for x in range(self.size):\n",
        "        for y in range(self.size):\n",
        "          pos_list.append(f'[{x}, {y}]')\n",
        "\n",
        "      for i, val in enumerate(pos_list):\n",
        "        state_dict[i] = val\n",
        "\n",
        "      pos_to_state_dict = {v: k for k, v in state_dict.items()}\n",
        "      state_list = [pos_to_state_dict[str(x)] for x in positions]\n",
        "      return state_list\n",
        "\n",
        "    def step(self, actions):\n",
        "        self._timestep += 1\n",
        "        old_pos = self.agent_pos.copy()\n",
        "        rewards = [0 for _ in range(self.n_agents)]\n",
        "\n",
        "        old_distances = []\n",
        "        new_distances = []\n",
        "        baseline_new = 0\n",
        "        baseline_old = 0\n",
        "        for i in range(self.n_agents):\n",
        "            self.update_agent_pos(i, actions[i])\n",
        "            old_dist = self._compute_distance(old_pos[i], self.goal_pos)\n",
        "            new_dist = self._compute_distance(self.agent_pos[i], self.goal_pos)\n",
        "            #add up old distances to get baseline reward of system\n",
        "            #can ignore this stuff for now\n",
        "            old_distances.append(old_dist)\n",
        "            new_distances.append(new_dist)\n",
        "            baseline_old += old_dist\n",
        "            baseline_new += new_dist\n",
        "\n",
        "        #reward system changes\n",
        "\n",
        "\n",
        "\n",
        "\n",
        "        if baseline_old > baseline_new:\n",
        "          for i in range(len(old_distances)):\n",
        "            if new_distances[i] < old_distances[i]:\n",
        "                rewards[i] = 1.5\n",
        "            elif new_distances[i] > old_distances[i]:\n",
        "                rewards[i] = -1\n",
        "\n",
        "            elif (new_distances[i] == old_distances[i]) and not self.done[i]:\n",
        "                rewards[i] = -0.1\n",
        "\n",
        "            if (self.agent_pos[i] == self.goal_pos):\n",
        "                self.done[i] = True\n",
        "                rewards[i] = 10\n",
        "            else:\n",
        "                self.done[i] = False\n",
        "\n",
        "        elif baseline_new > baseline_old:\n",
        "          for i in range(len(old_distances)):\n",
        "            if new_distances[i] < old_distances[i]:\n",
        "                rewards[i] = 1\n",
        "            elif new_distances[i] > old_distances[i]:\n",
        "                rewards[i] = -1.5\n",
        "\n",
        "            elif (new_distances[i] == old_distances[i]) and not self.done[i]:\n",
        "                rewards[i] = 0.1\n",
        "\n",
        "            if (self.agent_pos[i] == self.goal_pos):\n",
        "                self.done[i] = True\n",
        "                rewards[i] = 10\n",
        "            else:\n",
        "                self.done[i] = False\n",
        "\n",
        "        else:\n",
        "          for i in range(len(old_distances)):\n",
        "            if new_distances[i] < old_distances[i]:\n",
        "                rewards[i] = -1.5\n",
        "            elif new_distances[i] > old_distances[i]:\n",
        "                rewards[i] = -2.5\n",
        "\n",
        "            elif (new_distances[i] == old_distances[i]) and not self.done[i]:\n",
        "                rewards[i] = -10\n",
        "\n",
        "            if (self.agent_pos[i] == self.goal_pos):\n",
        "                self.done[i] = True\n",
        "                rewards[i] = 10\n",
        "            else:\n",
        "                self.done[i] = False\n",
        "\n",
        "\n",
        "\n",
        "        if self._timestep >= self._max_timestep:\n",
        "            self.done = [True for i in range(self.n_agents)]\n",
        "\n",
        "        observation = self._pos_to_state(self.agent_pos)\n",
        "        info = {}\n",
        "        return observation, rewards, self.done, info #all(done)\n",
        "\n",
        "\n",
        "    def update_agent_pos(self, agent, action):\n",
        "        next_pos = copy(self.agent_pos[agent])\n",
        "        if action == 0: # Down\n",
        "            next_pos[0] += 1\n",
        "        elif action == 1: # Up\n",
        "            next_pos[0] -= 1\n",
        "        elif action == 2: # Right\n",
        "            next_pos[1] += 1\n",
        "        elif action == 3: # Left\n",
        "            next_pos[1] -= 1\n",
        "        elif action == 4: # No move\n",
        "            pass\n",
        "        else:\n",
        "            raise Exception('Action is not valid')\n",
        "\n",
        "        if self._is_inside_grid(next_pos) and not self._is_collision(next_pos, agent):\n",
        "            self.agent_pos[agent] = next_pos\n",
        "        else:\n",
        "            pass\n",
        "\n",
        "\n",
        "    def render(self):\n",
        "        state = np.copy(self.world)\n",
        "        state[tuple(self.goal_pos)] = 0.5\n",
        "        for i in range(self.n_agents):\n",
        "            state[tuple(self.agent_pos[i])] = 1 - (0.1 * i)\n",
        "            # state[tuple(self.goal_pos[i])] = 1 - (0.1 * i)\n",
        "        return plt.imshow(state)"
      ],
      "metadata": {
        "id": "19ERggHjbsCp"
      },
      "execution_count": null,
      "outputs": []
    },
    {
      "cell_type": "code",
      "source": [
        "config = {\n",
        "    'N_AGENTS' : 2,\n",
        "    'GRID_SIZE' : 3,\n",
        "    'NUM_EPISODES': 500\n",
        "}\n"
      ],
      "metadata": {
        "id": "_5Aibrlabva1"
      },
      "execution_count": null,
      "outputs": []
    },
    {
      "cell_type": "code",
      "source": [
        "if __name__ == '__main__':\n",
        "    n_agents = config['N_AGENTS']\n",
        "    size = config['GRID_SIZE']\n",
        "    episodes = config['NUM_EPISODES']\n",
        "    max_steps = 400\n",
        "    explore_rate = 1\n",
        "    decay_rate = 0.01\n",
        "    min_explore_rate = 0.01\n",
        "    alpha = 0.5\n",
        "    gamma = 0.9\n",
        "    env = MAGridWorld2(size=size, n_agents=n_agents)\n",
        "    n_observations = env.observation_space.n\n",
        "    n_actions = env.action_space.n\n",
        "\n",
        "    # Initialize Q-table to 0\n",
        "    Q_table = np.zeros((n_agents, n_observations, n_actions))\n",
        "    print(Q_table)\n",
        "\n",
        "    rewards_per_episode = []\n",
        "    timesteps_per_episode = []\n",
        "    exploration_decay = []\n",
        "    # Iterate over episodes\n",
        "    for episode in range(episodes):\n",
        "\n",
        "\n",
        "      current_state = env.reset()\n",
        "      i = 1\n",
        "\n",
        "      episode_reward = np.zeros((n_agents))\n",
        "\n",
        "      # while max timesteps or termination condition not met\n",
        "      while not all(env.done):\n",
        "        action_n = []\n",
        "\n",
        "        # if exploration rate is greater than random numb from 0-1\n",
        "        if np.random.uniform(0,1) < explore_rate:\n",
        "\n",
        "          # Take Random Action\n",
        "          action_n = [env.action_space.sample(), env.action_space.sample(), \\\n",
        "                        env.action_space.sample(), env.action_space.sample(), \\\n",
        "                        env.action_space.sample(), env.action_space.sample()]\n",
        "        # if exploration rate below random num from 0-1\n",
        "        else:\n",
        "          #exploit best actions using q_table\n",
        "          for n in range(n_agents):\n",
        "            action_n.append(np.argmax(Q_table[n, current_state[n], :]))\n",
        "\n",
        "        # Environment runs the chosen action and returns the next state,\n",
        "        # rewards, and true if episode ended\n",
        "        next_state, rewards, done, _ = env.step(action_n)\n",
        "        episode_reward[0:] += rewards[0:]\n",
        "\n",
        "        # Update Q-table\n",
        "        for n in range(n_agents):\n",
        "          Q_table[n, current_state[n], action_n[n]] = (1-alpha) * Q_table[n, current_state[n], action_n[n]] + alpha * (rewards[n] + gamma * max(Q_table[n, next_state[n], :]))\n",
        "\n",
        "        current_state = next_state\n",
        "        # print(f'Episode {episode + 1}:')\n",
        "        # print(f'Timestep {i}')\n",
        "        # i += 1\n",
        "        # print('Actions: ', action_n)\n",
        "        # print('Next State: ', next_state)\n",
        "        # print('Reward: ', rewards)\n",
        "        # print('Episode Reward: ', episode_reward)\n",
        "        # print('Done: ', done)\n",
        "        # print('\\n')\n",
        "        # plt.figure()\n",
        "        # env.render()\n",
        "        # plt.show()\n",
        "        # time.sleep(.01)\n",
        "        # clear_output(wait=True)\n",
        "\n",
        "      timesteps_per_episode.append(env._timestep)\n",
        "      # Update exploration rate using decay formula\n",
        "      exploration_decay.append(explore_rate)\n",
        "      explore_rate = max(min_explore_rate, np.exp(-decay_rate*episode))\n",
        "      rewards_per_episode.append(episode_reward)"
      ],
      "metadata": {
        "colab": {
          "base_uri": "https://localhost:8080/"
        },
        "id": "_bTl1m7-bxZm",
        "outputId": "340e2f26-8b76-4dc4-cbc2-7a51a5ae2757"
      },
      "execution_count": null,
      "outputs": [
        {
          "output_type": "stream",
          "name": "stdout",
          "text": [
            "[[[0. 0. 0. 0. 0.]\n",
            "  [0. 0. 0. 0. 0.]\n",
            "  [0. 0. 0. 0. 0.]\n",
            "  [0. 0. 0. 0. 0.]\n",
            "  [0. 0. 0. 0. 0.]\n",
            "  [0. 0. 0. 0. 0.]\n",
            "  [0. 0. 0. 0. 0.]\n",
            "  [0. 0. 0. 0. 0.]\n",
            "  [0. 0. 0. 0. 0.]]\n",
            "\n",
            " [[0. 0. 0. 0. 0.]\n",
            "  [0. 0. 0. 0. 0.]\n",
            "  [0. 0. 0. 0. 0.]\n",
            "  [0. 0. 0. 0. 0.]\n",
            "  [0. 0. 0. 0. 0.]\n",
            "  [0. 0. 0. 0. 0.]\n",
            "  [0. 0. 0. 0. 0.]\n",
            "  [0. 0. 0. 0. 0.]\n",
            "  [0. 0. 0. 0. 0.]]]\n"
          ]
        }
      ]
    },
    {
      "cell_type": "code",
      "source": [
        "print(Q_table)"
      ],
      "metadata": {
        "colab": {
          "base_uri": "https://localhost:8080/"
        },
        "id": "bTuv7FBzb41F",
        "outputId": "3887a2a2-3266-4767-c328-ed027b57487a"
      },
      "execution_count": null,
      "outputs": [
        {
          "output_type": "stream",
          "name": "stdout",
          "text": [
            "[[[53.23626856 48.97410023 65.11532728 49.82021649 55.61817226]\n",
            "  [53.34561285 48.89432678 51.23033704 61.44305684 50.30593537]\n",
            "  [57.57553763 54.16788185 57.33682994 69.95207321 52.92882431]\n",
            "  [48.90918402 60.00827341 54.45013871 53.99961714 52.59447797]\n",
            "  [52.76144306 62.09133042 55.72997062 53.00736142 53.12123176]\n",
            "  [51.44784574 59.27653365 56.58609239 60.02847563 52.36462252]\n",
            "  [44.40841412 56.2561402  49.75224241 51.41418567 42.30484804]\n",
            "  [52.87734231 55.43957156 53.28530977 53.35864667 53.09939738]\n",
            "  [44.0165178  56.57528318 45.98951858 57.3107088  46.0367531 ]]\n",
            "\n",
            " [[50.50593364 49.81624029 68.3527935  47.03768502 49.32962473]\n",
            "  [45.0336181  54.0920305  50.49979854 63.3228096  53.77318485]\n",
            "  [49.10457077 50.18181076 50.34069279 67.65992064 37.04745152]\n",
            "  [44.07427671 53.09489954 42.62163118 39.19379337 41.71138208]\n",
            "  [41.90645461 42.67287696 41.80288752 41.11713803 37.60225903]\n",
            "  [45.42688765 63.41262345 50.19515452 42.43974388 41.99626569]\n",
            "  [41.451524   45.61229645 44.23908977 45.25938397 45.62479949]\n",
            "  [44.61100263 43.33566176 50.61805127 42.17491551 42.85146996]\n",
            "  [47.27330754 58.15266169 41.95169617 45.62553247 43.20859635]]]\n"
          ]
        }
      ]
    },
    {
      "cell_type": "code",
      "source": [
        "print(rewards_per_episode)\n",
        "labels = []\n",
        "for agent in range(n_agents): labels.append(f'agent {agent+1}')\n",
        "plt.plot(rewards_per_episode)\n",
        "plt.ylabel('Reward')\n",
        "plt.xlabel('Episode')\n",
        "plt.title('Reward at each Episode')\n",
        "#plt.xticks(np.arange(len(total_episode_reward)), np.arange(1, len(total_episode_reward)+1))\n",
        "#plt.xticks(np.arange(0, len(rewards_per_episode), step=10))\n",
        "plt.legend(labels)"
      ],
      "metadata": {
        "colab": {
          "base_uri": "https://localhost:8080/",
          "height": 351
        },
        "id": "GSxOG6TSb6zr",
        "outputId": "2980c7b5-ade0-4a80-9564-b25c575552d3"
      },
      "execution_count": null,
      "outputs": [
        {
          "output_type": "stream",
          "name": "stdout",
          "text": [
            "[array([-42.8, -90.5]), array([-101.5, -248.6]), array([-54.1, -93.7]), array([ 135.3, -167.4]), array([ -61.7, -463.9]), array([-116.4,    1.3]), array([-44.2, -20.4]), array([ -37.8, -244.8]), array([-291.5, -275.4]), array([-138.2,   -5.2]), array([-302.9,   89.2]), array([ 55.8, -75.6]), array([47.6, -9.4]), array([-35.6,  64.8]), array([ 17.4, -12.1]), array([67.5, 14.5]), array([-45.7,  -3.3]), array([  0.2, -26.9]), array([25.9, -5.5]), array([ 83.6, -22.7]), array([30. , 14.6]), array([-150.5,   21.2]), array([-72.7,  46.1]), array([-9.6, 49. ]), array([36.8, -1.8]), array([-122.4,  222.5]), array([-67.5, -37.1]), array([12.9, 12.9]), array([  6.6, -31.2]), array([37.5, 22.1]), array([-34.7,  68.5]), array([ -71.1, -142.9]), array([-26.,  15.]), array([-6.4, 22.9]), array([-7.1, -7.1]), array([29. , 30.6]), array([ 93.6, -42.4]), array([ 68.9, -11.9]), array([ 51.4, -15.5]), array([-9.5, 51.3]), array([-41. , -48.5]), array([20.6, -8.5]), array([33.4, -4. ]), array([ 9.8, 60.7]), array([2.9, 2.9]), array([-51.2, -21.1]), array([ 90.6, -93.3]), array([-37.1,  90. ]), array([50. , -5.4]), array([-9.6,  6. ]), array([11.5,  3. ]), array([ 7.9, 77.4]), array([21.5, 14.6]), array([12.9, 19. ]), array([-19.7, 125.6]), array([-31.9,  59.2]), array([13., 13.]), array([ 63.1, -61.8]), array([23.3, -2.6]), array([31.5,  4.4]), array([39.9,  4.5]), array([31.4, 14.4]), array([110.4,  44.3]), array([13., 13.]), array([ 9.8, 12. ]), array([ 40. , -55.6]), array([20.5, 11.4]), array([-19.7,  21.5]), array([ 0. , -5.3]), array([36.7, 19.5]), array([13., 13.]), array([32.9, 10.5]), array([-19.5,  31.4]), array([3.1, 3.1]), array([20. ,  4.6]), array([30.5, 20.4]), array([21.3, -5.6]), array([ 47. , -16.3]), array([25.6, 46.4]), array([ 1.5, -0.9]), array([ 9. , -8.6]), array([13., 13.]), array([27.5, 11.5]), array([13. , 21.5]), array([43.1,  2.9]), array([8.1, 6.9]), array([13., 13.]), array([48. , 17.9]), array([37.5, 19.5]), array([ 75.5, -38. ]), array([84.4, 17.5]), array([ 49. , -19.5]), array([11.4,  4.5]), array([-27. ,  50.6]), array([16. ,  0.6]), array([3., 3.]), array([39. , 12.1]), array([  7.4, -32.6]), array([31.5, 14.5]), array([29. , 48.4]), array([21.5, 14.6]), array([39. ,  1.4]), array([10.5, 11.5]), array([-37.7, 105.6]), array([19.5, -4.1]), array([18.4,  2.2]), array([ 7.4, 19.1]), array([ 9.5, 37. ]), array([ 0.3, 21.5]), array([17.4,  8.9]), array([  8.6, -35.3]), array([40. , 14.5]), array([43.4, 34.1]), array([13., 13.]), array([125.5, -36.2]), array([-7.1, 59. ]), array([1.4, 4.6]), array([30. , 14.6]), array([13., 13.]), array([12.9, 30.5]), array([ 97.4, -20.4]), array([21.4, 14.5]), array([31.5, 14.5]), array([21.5, 14.6]), array([31.5, 14.5]), array([58.6,  4.6]), array([-7.1, 59. ]), array([22. , 30.5]), array([ 1.3, 13. ]), array([37.4,  2. ]), array([47.5, 12.1]), array([70. , -5.4]), array([13., 13.]), array([31.4, 10.6]), array([21.4, 14.5]), array([30. , 14.6]), array([ 64.7, -10.9]), array([13., 13.]), array([19.9,  4.5]), array([31.5, -5.5]), array([31.5, 14.5]), array([38.4, 14.7]), array([ -6.1, -28.8]), array([22.7, 30.4]), array([ 9.1, -8.5]), array([21.4, 14.5]), array([13., 13.]), array([41.5,  4.5]), array([23. , 20.6]), array([30. , 14.6]), array([31.5, 14.5]), array([51.5,  4.4]), array([-10.2,  38.1]), array([29. , 11.4]), array([30. , 14.6]), array([11.5,  4.6]), array([13., 13.]), array([13., 13.]), array([13., 13.]), array([40. , 14.5]), array([20. ,  4.6]), array([12.9, 30.5]), array([40. ,  4.6]), array([11.5,  4.6]), array([13., 13.]), array([22.9, 20.5]), array([23. , 20.6]), array([48.5, 14.7]), array([40. ,  4.6]), array([13., 13.]), array([13., 13.]), array([13., 13.]), array([30. , 14.6]), array([13., 13.]), array([30. , 14.6]), array([ 37.5, -10.4]), array([22.9, 20.5]), array([37.5, 10.6]), array([31.5, 14.5]), array([20.4, 18. ]), array([40. ,  4.6]), array([31.5, 14.5]), array([31.5, 14.5]), array([-17.1,  60.5]), array([29. , 11.4]), array([ 8. , 50.4]), array([53.5, 29.6]), array([13., 13.]), array([30. , 14.6]), array([20. ,  4.6]), array([30. , 14.6]), array([30. , 14.6]), array([17.5,  9. ]), array([13., 13.]), array([20.4, 30.5]), array([ 90. , -15.5]), array([12.9, 30.5]), array([13., 13.]), array([11.4,  4.5]), array([108.5,  -7.3]), array([-10.3,  67.5]), array([13., 13.]), array([20.5, 11.4]), array([13., 13.]), array([29.1, 11.5]), array([20.5, 11.4]), array([13., 13.]), array([20.3, 29. ]), array([20. ,  4.6]), array([30. , 14.6]), array([30. , 14.6]), array([13., 13.]), array([21.5, 14.6]), array([13., 13.]), array([29. ,  1.5]), array([22.9, 20.5]), array([30. , 14.6]), array([30.5,  0.4]), array([30. , 14.6]), array([30. , 14.6]), array([31.5, 14.5]), array([41.5,  4.5]), array([31.5, 14.5]), array([-7.1, 50.5]), array([20. ,  4.6]), array([30. , 14.6]), array([30. , 14.6]), array([21.5, 14.6]), array([13., 13.]), array([30. , 14.6]), array([13., 13.]), array([30. , 14.6]), array([13., 13.]), array([30. , 14.6]), array([13., 13.]), array([30. , 14.6]), array([13., 13.]), array([133. ,  -7.2]), array([18.5, -5.4]), array([13., 13.]), array([30. , 14.6]), array([3., 3.]), array([30. , 14.6]), array([30. , 14.6]), array([40. ,  4.6]), array([3., 3.]), array([13., 13.]), array([40. ,  4.6]), array([13., 13.]), array([22.9, 20.5]), array([40. ,  4.6]), array([12.9, 30.5]), array([13., 13.]), array([30. , 14.6]), array([13., 13.]), array([46.1, 10.7]), array([30. , 14.6]), array([13., 13.]), array([13., 13.]), array([3., 3.]), array([57. , 14.7]), array([13., 13.]), array([48.5, 12.1]), array([13., 13.]), array([20. ,  4.6]), array([13., 13.]), array([13., 13.]), array([30. , 14.6]), array([30. , 14.6]), array([30. , 14.6]), array([20. ,  4.6]), array([13., 13.]), array([13., 13.]), array([3., 3.]), array([13., 13.]), array([30. , 14.6]), array([13., 13.]), array([30. , 14.6]), array([30. , 14.6]), array([30. , 14.6]), array([40.5, 10.4]), array([13., 13.]), array([ 65.5, -25.5]), array([51.5,  4.4]), array([31.5, 14.5]), array([-7.3, 87.5]), array([22.9, 20.5]), array([13., 13.]), array([13., 13.]), array([13., 13.]), array([13., 13.]), array([13., 13.]), array([30. , 14.6]), array([13., 13.]), array([30. , 14.6]), array([30. , 14.6]), array([13., 13.]), array([30. , 14.6]), array([13., 13.]), array([13., 13.]), array([13., 13.]), array([13., 13.]), array([29. , 11.4]), array([22. , 27.5]), array([30. , 14.6]), array([30. , 14.6]), array([30. , 14.6]), array([38.5, 14.6]), array([27.4, 19.5]), array([13., 13.]), array([13., 13.]), array([30. , 14.6]), array([30. , 14.6]), array([13., 13.]), array([13., 13.]), array([13., 13.]), array([13., 13.]), array([23. , 20.6]), array([13., 13.]), array([13., 13.]), array([13., 13.]), array([30. , 14.6]), array([13., 13.]), array([30. , 14.6]), array([38.5, 14.6]), array([30. , 14.6]), array([30. , 14.6]), array([30. , 14.6]), array([30. , 14.6]), array([13., 13.]), array([13., 13.]), array([30. , 14.6]), array([30. , 14.6]), array([30. , 14.6]), array([13., 13.]), array([13., 13.]), array([13., 13.]), array([13., 13.]), array([30. , 14.6]), array([13., 13.]), array([30. , 14.6]), array([13., 13.]), array([13., 13.]), array([23. , 20.6]), array([13., 13.]), array([13., 13.]), array([30. , 14.6]), array([30. , 14.6]), array([152.5,  -6.4]), array([31.5, 12.9]), array([19. ,  1.4]), array([31.5, 14.5]), array([12.9, 30.5]), array([30. , 14.6]), array([30. , 14.6]), array([38.5, 14.6]), array([30. , 14.6]), array([13., 13.]), array([30. , 14.6]), array([13., 13.]), array([13., 13.]), array([30. , 14.6]), array([13., 13.]), array([22. , 27.5]), array([13., 13.]), array([30. , 14.6]), array([13., 13.]), array([30. , 14.6]), array([30. , 14.6]), array([3., 3.]), array([30. , 14.6]), array([13., 13.]), array([30. , 14.6]), array([30. , 14.6]), array([13., 13.]), array([17.5,  9. ]), array([13., 13.]), array([13., 13.]), array([13., 13.]), array([13., 13.]), array([13., 13.]), array([30. , 14.6]), array([30. , 14.6]), array([30. , 14.6]), array([13., 13.]), array([13., 13.]), array([13., 13.]), array([30. , 14.6]), array([30. , 14.6]), array([30. , 14.6]), array([30. , 14.6]), array([30. , 14.6]), array([30. , 14.6]), array([30. , 14.6]), array([13., 13.]), array([13., 13.]), array([30. , 14.6]), array([30. , 14.6]), array([30. , 14.6]), array([13., 13.]), array([30. , 14.6]), array([20. ,  4.6]), array([13., 13.]), array([30. , 14.6]), array([13., 13.]), array([13., 13.]), array([13., 13.]), array([30. , 14.6]), array([13., 13.]), array([13., 13.]), array([13., 13.]), array([30. , 14.6]), array([13., 13.]), array([30. , 14.6]), array([30. , 14.6]), array([37.5, 10.6]), array([13., 13.]), array([13., 13.]), array([30. , 14.6]), array([30. , 14.6]), array([30. , 14.6]), array([27.4, 19.5]), array([13., 13.]), array([13., 13.]), array([13., 13.]), array([30. , 14.6]), array([30. , 14.6]), array([3., 3.]), array([13., 13.]), array([13., 13.]), array([30. , 14.6]), array([13., 13.]), array([30. , 14.6]), array([13., 13.]), array([13., 13.]), array([13., 13.]), array([23. , 20.6]), array([13., 13.]), array([13., 13.]), array([30. , 14.6]), array([30. , 14.6]), array([13., 13.]), array([37.5, 10.6]), array([30. , 14.6]), array([30. , 14.6]), array([13., 13.]), array([29.1, 11.5]), array([13., 13.]), array([13., 13.]), array([30. , 14.6]), array([30. , 14.6]), array([30. , 14.6]), array([13., 13.]), array([30. , 14.6]), array([30. , 14.6]), array([13., 13.]), array([13., 13.]), array([30. , 14.6]), array([13., 13.]), array([13., 13.]), array([13., 13.]), array([30. , 14.6]), array([13., 13.]), array([13., 13.]), array([30. , 14.6]), array([30. , 14.6]), array([13., 13.]), array([30. , 14.6]), array([13., 13.]), array([13., 13.]), array([13., 13.]), array([30. , 14.6]), array([13., 13.]), array([30. , 14.6]), array([30. , 14.6]), array([30. , 14.6]), array([13., 13.]), array([30. , 14.6]), array([30. , 14.6]), array([13., 13.]), array([23. , 20.6]), array([30. , 14.6]), array([13., 13.]), array([13., 13.]), array([13., 13.]), array([13., 13.]), array([13., 13.]), array([13., 13.]), array([13., 13.]), array([30. , 14.6]), array([13., 13.]), array([30. , 14.6]), array([30. , 14.6]), array([30. , 14.6]), array([30. , 14.6]), array([30.5, 20.4]), array([13., 13.]), array([30.6, 20.5]), array([13., 13.]), array([13., 13.])]\n"
          ]
        },
        {
          "output_type": "execute_result",
          "data": {
            "text/plain": [
              "<matplotlib.legend.Legend at 0x7f3c04d62b20>"
            ]
          },
          "metadata": {},
          "execution_count": 6
        },
        {
          "output_type": "display_data",
          "data": {
            "text/plain": [
              "<Figure size 432x288 with 1 Axes>"
            ],
            "image/png": "[encoded data removed]"
          },
          "metadata": {
            "needs_background": "light"
          }
        }
      ]
    },
    {
      "cell_type": "code",
      "source": [
        "print(exploration_decay)\n",
        "plt.plot(exploration_decay)"
      ],
      "metadata": {
        "colab": {
          "base_uri": "https://localhost:8080/",
          "height": 321
        },
        "id": "KqsJpnbWb-BL",
        "outputId": "4a4147ba-2380-427b-9292-be63e0dd142f"
      },
      "execution_count": null,
      "outputs": [
        {
          "output_type": "stream",
          "name": "stdout",
          "text": [
            "[1, 1.0, 0.9900498337491681, 0.9801986733067553, 0.9704455335485082, 0.9607894391523232, 0.951229424500714, 0.9417645335842487, 0.9323938199059483, 0.9231163463866358, 0.9139311852712282, 0.9048374180359595, 0.8958341352965282, 0.8869204367171575, 0.8780954309205613, 0.8693582353988059, 0.8607079764250578, 0.8521437889662113, 0.8436648165963837, 0.835270211411272, 0.8269591339433623, 0.8187307530779818, 0.8105842459701871, 0.8025187979624785, 0.794533602503334, 0.7866278610665535, 0.7788007830714049, 0.7710515858035663, 0.7633794943368531, 0.7557837414557255, 0.7482635675785653, 0.7408182206817179, 0.7334469562242892, 0.7261490370736909, 0.7189237334319262, 0.7117703227626097, 0.7046880897187134, 0.697676326071031, 0.6907343306373547, 0.6838614092123558, 0.6770568744981647, 0.6703200460356393, 0.6636502501363194, 0.6570468198150567, 0.6505090947233165, 0.6440364210831414, 0.6376281516217733, 0.631283645506926, 0.6250022682827008, 0.6187833918061408, 0.6126263941844161, 0.6065306597126334, 0.6004955788122659, 0.5945205479701944, 0.5886049696783552, 0.5827482523739896, 0.5769498103804866, 0.5712090638488149, 0.5655254386995371, 0.559898366565402, 0.5543272847345071, 0.5488116360940264, 0.5433508690744998, 0.5379444375946745, 0.5325918010068972, 0.5272924240430485, 0.522045776761016, 0.5168513344916992, 0.5117085777865424, 0.5066169923655895, 0.5015760690660555, 0.49658530379140947, 0.4916441974609651, 0.4867522559599717, 0.48190899009020244, 0.4771139155210344, 0.4723665527410147, 0.46766642700990924, 0.46301306831122807, 0.4584060113052235, 0.45384479528235583, 0.44932896411722156, 0.4448580662229411, 0.44043165450599925, 0.43604928632153556, 0.43171052342907973, 0.4274149319487267, 0.4231620823177488, 0.418951549247639, 0.4147829116815814, 0.4106557527523455, 0.4065696597405991, 0.40252422403363597, 0.39851904108451414, 0.3945537103716011, 0.3906278353585211, 0.3867410234545012, 0.38289288597511206, 0.37908303810339883, 0.37531109885139957, 0.3715766910220457, 0.36787944117144233, 0.3642189795715233, 0.3605949401730783, 0.3570069605691474, 0.35345468195878016, 0.3499377491111553, 0.3464558103300574, 0.34300851741870664, 0.3395955256449391, 0.33621649370673334, 0.33287108369807955, 0.32955896107518906, 0.32627979462303947, 0.3230332564222529, 0.31981902181630384, 0.31663676937905316, 0.3134861808826053, 0.31036694126548503, 0.30727873860113125, 0.3042212640667041, 0.30119421191220214, 0.2981972794298874, 0.2952301669240142, 0.2922925776808594, 0.2893842179390506, 0.2865047968601901, 0.2836540264997704, 0.2808316217783798, 0.27803730045319414, 0.27527078308975234, 0.2725317930340126, 0.2698200563846868, 0.26713530196585034, 0.26447726129982396, 0.261845668580326, 0.2592402606458915, 0.2566607769535559, 0.25410695955280027, 0.25157855305975646, 0.24907530463166816, 0.24659696394160643, 0.2441432831534371, 0.24171401689703645, 0.23930892224375455, 0.23692775868212176, 0.23457028809379765, 0.23223627472975883, 0.22992548518672384, 0.22763768838381274, 0.22537265553943872, 0.22313016014842982, 0.2209099779593782, 0.21871188695221475, 0.21653566731600707, 0.21438110142697794, 0.21224797382674304, 0.21013607120076472, 0.20804518235702046, 0.20597509820488344, 0.20392561173421342, 0.20189651799465538, 0.1998876140751445, 0.19789869908361465, 0.19592957412690934, 0.19398004229089189, 0.19204990862075408, 0.1901389801015205, 0.1882470656387468, 0.18637397603940997, 0.18451952399298926, 0.18268352405273466, 0.1808657926171221, 0.17906614791149322, 0.17728440996987782, 0.17552040061699686, 0.17377394345044514, 0.17204486382305054, 0.17033298882540943, 0.1686381472685955, 0.1669601696670407, 0.16529888822158653, 0.16365413680270405, 0.16202575093388075, 0.16041356777517274, 0.15881742610692068, 0.1572371663136276, 0.1556726303679973, 0.1541236618151314, 0.15259010575688386, 0.15107180883637084, 0.14956861922263504, 0.14808038659546244, 0.14660696213035015, 0.14514819848362373, 0.14370394977770293, 0.1422740715865136, 0.140858420921045, 0.13945685621505094, 0.13806923731089282, 0.13669542544552385, 0.1353352832366127, 0.13398867466880493, 0.13265546508012172, 0.13133552114849303, 0.1300287108784259, 0.12873490358780423, 0.12745396989482075, 0.12618578170503877, 0.12493021219858241, 0.12368713581745483, 0.1224564282529819, 0.12123796643338168, 0.12003162851145673, 0.11883729385240965, 0.11765484302177918, 0.11648415777349697, 0.11532512103806251, 0.1141776169108365, 0.11304153064044985, 0.11191674861732888, 0.11080315836233387, 0.10970064851551141, 0.10860910882495796, 0.10752843013579495, 0.1064585043792528, 0.10539922456186433, 0.104350484754765, 0.1033121800831002, 0.10228420671553744, 0.1012664618538834, 0.1002588437228037, 0.09926125155964566, 0.09827358560436154, 0.09729574708953276, 0.09632763823049303, 0.09536916221554961, 0.09442022319630235, 0.09348072627805847, 0.09255057751034329, 0.09162968387750484, 0.09071795328941251, 0.08981529457224763, 0.08892161745938634, 0.08803683258237255, 0.0871608514619813, 0.0862935864993705, 0.08543495096732123, 0.08458485900156469, 0.08374322559219596, 0.08290996657517266, 0.0820849986238988, 0.08126823924089167, 0.08045960674953244, 0.07965902028589801, 0.07886639979067495, 0.07808166600115313, 0.07730474044329974, 0.07653554542391151, 0.07577400402284548, 0.07502004008532698, 0.07427357821433388, 0.0735345437630571, 0.07280286282743559, 0.0720784622387661, 0.07136126955638605, 0.0706512130604296, 0.06994822174465536, 0.069252225309346, 0.06856315415427791, 0.06788093937176144, 0.06720551273974976, 0.06653680671501686, 0.06587475442640295, 0.06521928966812753, 0.06457034689316847, 0.06392786120670757, 0.0632917683596407, 0.06266200474215315, 0.06203850737735829, 0.06142121391500013, 0.06081006262521795, 0.06020499239237354, 0.05960594270893937, 0.05901285366944784, 0.05842566596450083, 0.057844320874838456, 0.05726876026546736, 0.0566989265798469, 0.056134762834133725, 0.05557621261148306, 0.05502322005640723, 0.05447572986918986, 0.05393368730035602, 0.053397038145197084, 0.05286572873835037, 0.05233970594843238, 0.05181891717272583, 0.05130331033191911, 0.0507928338648985, 0.050287436723591865, 0.049787068367863944, 0.04929167876046215, 0.04880121836201296, 0.04831563812606777, 0.04783488949419837, 0.04735892439114091, 0.046887695219988486, 0.04642115485743125, 0.045959256649044204, 0.04550195440462157, 0.0450492023935578, 0.044600955340274535, 0.04415716841969286, 0.04371779725275094, 0.043282797901965896, 0.04285212686704019, 0.042425741080511385, 0.04200359790344555, 0.04158565512117316, 0.04117187093906774, 0.04076220397836621, 0.04035661327203115, 0.039955058260653896, 0.039557498788398725, 0.039163895098987066, 0.03877420783172201, 0.038388398017552054, 0.038006427075174314, 0.0376282568071762, 0.03725384939621581, 0.036883167401239994, 0.0365161737537404, 0.03615283175404641, 0.0357931050676553, 0.03543695772159864, 0.035084354100845025, 0.03473525894473856, 0.03438963734347271, 0.034047454734599344, 0.033708676899572396, 0.03337326996032608, 0.03304120037588693, 0.03271243493901982, 0.03238694077290704, 0.03206468532786077, 0.03174563637806794, 0.03142976201836771, 0.03111703066106086, 0.030807411032751076, 0.030500872171217483, 0.0301973834223185, 0.029896914436926308, 0.029599435167892, 0.029304915867040746, 0.029013327082197053, 0.028724639654239423, 0.028438824714184505, 0.028155853680300096, 0.027875698255247015, 0.027598330423249287, 0.02732372244729256, 0.027051846866350416, 0.026782676492638175, 0.02651618440889418, 0.02625234396568796, 0.025991128778755347, 0.02573251272635994, 0.025476469946681016, 0.025222974835227212, 0.024972002042276155, 0.024723526470339388, 0.02447752327165267, 0.024233967845691113, 0.023992835836709175, 0.023754103131304997, 0.023517745856009107, 0.023283740374897, 0.02305206328722557, 0.02282269142509297, 0.022595601851121864, 0.02237077185616559, 0.022148178957037315, 0.02192780089426161, 0.02170961562984857, 0.021493601345089923, 0.02127973643837717, 0.021067999523041434, 0.020858369425214716, 0.020650825181712566, 0.020445346037937653, 0.02024191144580439, 0.020040501061684014, 0.019841094744370288, 0.019643672553065292, 0.01944821474538539, 0.01925470177538692, 0.019063114291611637, 0.018873433135151486, 0.018685639337732773, 0.018499714119819242, 0.01831563888873418, 0.018133395236801075, 0.01795296493950285, 0.01777432995365944, 0.017597472415623393, 0.017422374639493515, 0.017249019115346265, 0.017077388507484793, 0.01690746565270528, 0.016739233558580632, 0.016572675401761255, 0.016407774526292645, 0.01624451444194987, 0.016082878822588433, 0.015922851504511698, 0.015764416484854486, 0.01560755791998283, 0.015452260123909515, 0.015298507566725518, 0.01514628487304698, 0.014995576820477703, 0.014846368338086832, 0.014698644504901784, 0.014552390548416123, 0.01440759184311235, 0.014264233908999256, 0.014122302410163962, 0.013981783153338296, 0.013842662086479501, 0.013704925297364945, 0.013568559012200934, 0.013433549594245302, 0.013299883542443767, 0.013167547490079751, 0.013036528203437736, 0.012906812580479862, 0.01277838764953576, 0.012651240568005305, 0.012525358621074385, 0.012400729220443406, 0.012277339903068436, 0.012155178329914935, 0.012034232284723775, 0.011914489672789647, 0.011795938519751562, 0.011678566970395442, 0.011562363287468536, 0.01144731585050571, 0.011333413154667387, 0.011220643809589084, 0.011108996538242306, 0.010998460175806881, 0.01088902366855444, 0.010780676072743084, 0.010673406553522925, 0.010567204383852655, 0.010462058943426795, 0.010357959717613696, 0.010254896296404022, 0.010152858373369763, 0.010051835744633576, 0.01, 0.01, 0.01, 0.01, 0.01, 0.01, 0.01, 0.01, 0.01, 0.01, 0.01, 0.01, 0.01, 0.01, 0.01, 0.01, 0.01, 0.01, 0.01, 0.01, 0.01, 0.01, 0.01, 0.01, 0.01, 0.01, 0.01, 0.01, 0.01, 0.01, 0.01, 0.01, 0.01, 0.01, 0.01, 0.01, 0.01, 0.01]\n"
          ]
        },
        {
          "output_type": "execute_result",
          "data": {
            "text/plain": [
              "[<matplotlib.lines.Line2D at 0x7f3c0484e250>]"
            ]
          },
          "metadata": {},
          "execution_count": 7
        },
        {
          "output_type": "display_data",
          "data": {
            "text/plain": [
              "<Figure size 432x288 with 1 Axes>"
            ],
            "image/png": "[encoded data removed]"
          },
          "metadata": {
            "needs_background": "light"
          }
        }
      ]
    },
    {
      "cell_type": "code",
      "source": [
        "print(timesteps_per_episode)\n",
        "plt.plot(timesteps_per_episode)"
      ],
      "metadata": {
        "colab": {
          "base_uri": "https://localhost:8080/",
          "height": 321
        },
        "id": "WPWpw7RZcAEs",
        "outputId": "f86ec6ac-4fd0-4159-9841-4caadb82e0ab"
      },
      "execution_count": null,
      "outputs": [
        {
          "output_type": "stream",
          "name": "stdout",
          "text": [
            "[51, 144, 48, 138, 200, 37, 22, 89, 149, 115, 138, 20, 13, 21, 16, 10, 29, 18, 18, 25, 5, 105, 28, 13, 51, 73, 67, 4, 41, 7, 36, 62, 26, 22, 8, 13, 32, 18, 9, 14, 16, 10, 16, 15, 7, 21, 36, 19, 7, 17, 6, 14, 5, 8, 25, 20, 3, 32, 14, 6, 7, 7, 36, 3, 7, 16, 5, 9, 10, 13, 3, 6, 11, 7, 6, 6, 11, 15, 11, 13, 9, 3, 8, 5, 7, 12, 3, 9, 7, 29, 17, 17, 5, 13, 8, 4, 10, 17, 4, 13, 5, 6, 4, 32, 11, 16, 7, 8, 7, 10, 15, 6, 19, 3, 20, 10, 6, 5, 3, 6, 14, 4, 4, 7, 6, 10, 12, 6, 7, 12, 8, 11, 3, 7, 4, 5, 20, 3, 7, 6, 4, 8, 17, 7, 8, 4, 3, 5, 6, 5, 4, 8, 13, 5, 5, 6, 3, 3, 3, 6, 6, 6, 6, 6, 3, 7, 6, 8, 6, 3, 3, 3, 5, 3, 7, 11, 7, 7, 4, 10, 6, 4, 4, 9, 5, 9, 11, 3, 5, 6, 5, 5, 5, 3, 6, 15, 6, 3, 5, 18, 12, 3, 7, 3, 8, 7, 3, 7, 6, 5, 5, 3, 5, 3, 7, 5, 5, 8, 5, 5, 4, 5, 4, 8, 6, 5, 5, 5, 3, 5, 3, 5, 3, 5, 3, 5, 3, 15, 9, 3, 5, 4, 5, 5, 6, 4, 3, 6, 3, 5, 6, 6, 3, 5, 3, 10, 5, 3, 3, 4, 10, 3, 8, 3, 6, 3, 3, 5, 5, 5, 6, 3, 3, 4, 3, 5, 3, 5, 5, 5, 7, 3, 16, 6, 4, 14, 5, 3, 3, 3, 3, 3, 5, 3, 5, 5, 3, 5, 3, 3, 3, 3, 5, 6, 5, 5, 5, 7, 7, 3, 3, 5, 5, 3, 3, 3, 3, 6, 3, 3, 3, 5, 3, 5, 7, 5, 5, 5, 5, 3, 3, 5, 5, 5, 3, 3, 3, 3, 5, 3, 5, 3, 3, 6, 3, 3, 5, 5, 23, 12, 6, 4, 6, 5, 5, 7, 5, 3, 5, 3, 3, 5, 3, 6, 3, 5, 3, 5, 5, 4, 5, 3, 5, 5, 3, 5, 3, 3, 3, 3, 3, 5, 5, 5, 3, 3, 3, 5, 5, 5, 5, 5, 5, 5, 3, 3, 5, 5, 5, 3, 5, 6, 3, 5, 3, 3, 3, 5, 3, 3, 3, 5, 3, 5, 5, 7, 3, 3, 5, 5, 5, 7, 3, 3, 3, 5, 5, 4, 3, 3, 5, 3, 5, 3, 3, 3, 6, 3, 3, 5, 5, 3, 7, 5, 5, 3, 6, 3, 3, 5, 5, 5, 3, 5, 5, 3, 3, 5, 3, 3, 3, 5, 3, 3, 5, 5, 3, 5, 3, 3, 3, 5, 3, 5, 5, 5, 3, 5, 5, 3, 6, 5, 3, 3, 3, 3, 3, 3, 3, 5, 3, 5, 7, 5, 5, 6, 3, 7, 3, 3]\n"
          ]
        },
        {
          "output_type": "execute_result",
          "data": {
            "text/plain": [
              "[<matplotlib.lines.Line2D at 0x7f3c04821610>]"
            ]
          },
          "metadata": {},
          "execution_count": 8
        },
        {
          "output_type": "display_data",
          "data": {
            "text/plain": [
              "<Figure size 432x288 with 1 Axes>"
            ],
            "image/png": "[encoded data removed]"
          },
          "metadata": {
            "needs_background": "light"
          }
        }
      ]
    },
    {
      "cell_type": "code",
      "source": [
        "from IPython.display import clear_output\n",
        "if __name__=='__main__':\n",
        "  # Initialize Constants\n",
        "  n_agents = config['N_AGENTS']\n",
        "  size = config['GRID_SIZE']\n",
        "  n_episodes = 10\n",
        "  max_steps_episode = 200\n",
        "  #exploration_rate = config['EXPL_RATE']\n",
        "  #exploration_decay_rate = config['EXPL_DECAY_RATE']\n",
        "  #min_exploration_rate = config['MIN_EXPL_RATE']\n",
        "  #gamma = config['GAMMA']\n",
        "  #lr = config['ALPHA']\n",
        "\n",
        "  # Make new Grid World\n",
        "  env = MAGridWorld2(size=size, n_agents=n_agents)\n",
        "  n_observations = env.observation_space.n\n",
        "  n_actions = env.action_space.n\n",
        "\n",
        "  # Initialize Q-table to Optimal Policy Q-table\n",
        "  optimal_q = Q_table\n",
        "\n",
        "  # total Episode Reward\n",
        "  total_episode_reward = []\n",
        "  timesteps_per_episode = []\n",
        "  exploration_decay = []\n",
        "  # Iterate over episodes\n",
        "  for episode in range(n_episodes):\n",
        "\n",
        "\n",
        "    current_state = env.reset()\n",
        "    i = 1\n",
        "\n",
        "    episode_reward = np.zeros((n_agents))\n",
        "\n",
        "    # while max timesteps or termination condition not met\n",
        "    while not all(env.done):\n",
        "      action_n = []\n",
        "\n",
        "\n",
        "      #exploit best actions using optimal q table\n",
        "      for n in range(n_agents):\n",
        "        action_n.append(np.argmax(optimal_q[n, current_state[n], :]))\n",
        "\n",
        "      # Environment runs the chosen action and returns the next state,\n",
        "      # rewards, and true if episode ended\n",
        "      next_state, rewards, done, _ = env.step(action_n)\n",
        "      episode_reward[0:] += rewards[0:]\n",
        "\n",
        "\n",
        "      current_state = next_state\n",
        "      print(f'Episode {episode + 1}:')\n",
        "      print(f'Timestep {i}')\n",
        "      i += 1\n",
        "      print('Actions: ', action_n)\n",
        "      print('Next State: ', next_state)\n",
        "      print('Reward: ', rewards)\n",
        "      print('Episode Reward: ', episode_reward)\n",
        "      print('Done: ', done)\n",
        "      print('\\n')\n",
        "      plt.figure()\n",
        "      env.render()\n",
        "      plt.show()\n",
        "      time.sleep(.1)\n",
        "      clear_output(wait=True)\n",
        "\n",
        "    timesteps_per_episode.append(env._timestep)\n",
        "\n",
        "    total_episode_reward.append(episode_reward)"
      ],
      "metadata": {
        "colab": {
          "base_uri": "https://localhost:8080/",
          "height": 429
        },
        "id": "thYZ72ZncCj_",
        "outputId": "58dfa292-caaf-45cc-d0b2-b891a1c79b06"
      },
      "execution_count": null,
      "outputs": [
        {
          "output_type": "stream",
          "name": "stdout",
          "text": [
            "Episode 10:\n",
            "Timestep 5\n",
            "Actions:  [2, 3]\n",
            "Next State:  [0, 0]\n",
            "Reward:  [10, 10]\n",
            "Episode Reward:  [30.  14.6]\n",
            "Done:  [True, True]\n",
            "\n",
            "\n"
          ]
        },
        {
          "output_type": "display_data",
          "data": {
            "text/plain": [
              "<Figure size 432x288 with 1 Axes>"
            ],
            "image/png": "[encoded data removed]"
          },
          "metadata": {
            "needs_background": "light"
          }
        }
      ]
    },
    {
      "cell_type": "code",
      "source": [
        "print(total_episode_reward)\n",
        "labels = []\n",
        "for agent in range(n_agents): labels.append(f'agent {agent+1}')\n",
        "plt.plot(total_episode_reward)\n",
        "plt.ylabel('Reward')\n",
        "plt.xlabel('Episode')\n",
        "plt.title('Reward at each Episode')\n",
        "#plt.xticks(np.arange(len(total_episode_reward)), np.arange(1, len(total_episode_reward)+1))\n",
        "plt.xticks(np.arange(0, len(total_episode_reward)))\n",
        "plt.legend(labels)"
      ],
      "metadata": {
        "id": "2iVniXWFcMVl",
        "colab": {
          "base_uri": "https://localhost:8080/",
          "height": 351
        },
        "outputId": "09d63dc5-7700-4f57-ab90-15c265f86605"
      },
      "execution_count": null,
      "outputs": [
        {
          "output_type": "stream",
          "name": "stdout",
          "text": [
            "[array([13., 13.]), array([30. , 14.6]), array([30. , 14.6]), array([13., 13.]), array([30. , 14.6]), array([30. , 14.6]), array([13., 13.]), array([13., 13.]), array([30. , 14.6]), array([30. , 14.6])]\n"
          ]
        },
        {
          "output_type": "execute_result",
          "data": {
            "text/plain": [
              "<matplotlib.legend.Legend at 0x7f3c0487e4f0>"
            ]
          },
          "metadata": {},
          "execution_count": 10
        },
        {
          "output_type": "display_data",
          "data": {
            "text/plain": [
              "<Figure size 432x288 with 1 Axes>"
            ],
            "image/png": "[encoded data removed]"
          },
          "metadata": {
            "needs_background": "light"
          }
        }
      ]
    },
    {
      "cell_type": "code",
      "source": [
        "import numpy as np\n",
        "import gym\n",
        "from gym import spaces\n",
        "import copy\n",
        "from copy import copy\n",
        "import matplotlib.pyplot as plt\n",
        "import random\n",
        "import time\n",
        "\n",
        "%matplotlib inline\n",
        "\n",
        "class MAGridWorld2(gym.Env):\n",
        "    metadata = { 'render.modes' : ['human', 'rgb_array'] }\n",
        "\n",
        "    def __init__(self, size, n_agents):\n",
        "        self.size = size\n",
        "        self._grid_size = (self.size, self.size)\n",
        "        self.world = np.zeros((self._grid_size))\n",
        "        self._timestep = None\n",
        "        self._max_timestep = 200\n",
        "        self.n_agents = n_agents\n",
        "        self.dist = int((self.size-1)/(n_agents-1))\n",
        "        self._step_cost = -0.1\n",
        "        self.observation_space = spaces.Discrete(self.size * self.size)\n",
        "        self.action_space = spaces.Discrete(5)\n",
        "\n",
        "    def reset(self):\n",
        "        self.agent_pos = []\n",
        "        self.goal_pos = [np.random.randint(self.size-1), 0]\n",
        "        self._timestep = 0\n",
        "        self.done = [False for i in range(self.n_agents)]\n",
        "        #self.q_tables = []\n",
        "        for i in range(self.n_agents):\n",
        "            self.agent_pos.append([self.size-1, i*self.dist])\n",
        "            # self.goal_pos.append([0, i*self.dist])\n",
        "            #self.q_tables.append(np.zeros((self.size*self.size, 4)))\n",
        "\n",
        "        self.goal_pos.reverse()\n",
        "        observation = self._pos_to_state(self.agent_pos)\n",
        "        return observation\n",
        "\n",
        "    def _compute_distance(self, x, y):\n",
        "        dist = np.abs(x[0]-y[0]) + np.abs(x[1]-y[1])\n",
        "        return dist\n",
        "\n",
        "    def _is_inside_grid(self, pos):\n",
        "        return (0 <= pos[0] < self._grid_size[0]) and (0 <= pos[1] < self._grid_size[1])\n",
        "\n",
        "    def _is_collision(self, new_pos, agent):\n",
        "        for i in range(self.n_agents):\n",
        "            if i == agent:\n",
        "                continue\n",
        "            elif new_pos == self.goal_pos:\n",
        "                return False\n",
        "            elif new_pos == self.agent_pos[i]:\n",
        "                return True\n",
        "\n",
        "    def _pos_to_state(self, positions):\n",
        "      pos_list = []\n",
        "      state_list = []\n",
        "      state_dict = {}\n",
        "      for x in range(self.size):\n",
        "        for y in range(self.size):\n",
        "          pos_list.append(f'[{x}, {y}]')\n",
        "\n",
        "      for i, val in enumerate(pos_list):\n",
        "        state_dict[i] = val\n",
        "\n",
        "      pos_to_state_dict = {v: k for k, v in state_dict.items()}\n",
        "      state_list = [pos_to_state_dict[str(x)] for x in positions]\n",
        "      return state_list\n",
        "\n",
        "    def step(self, actions):\n",
        "        self._timestep += 1\n",
        "        old_pos = self.agent_pos.copy()\n",
        "        rewards = [0 for _ in range(self.n_agents)]\n",
        "\n",
        "        old_distances = []\n",
        "        new_distances = []\n",
        "        baseline_new = 0\n",
        "        baseline_old = 0\n",
        "        for i in range(self.n_agents):\n",
        "            self.update_agent_pos(i, actions[i])\n",
        "            old_dist = self._compute_distance(old_pos[i], self.goal_pos)\n",
        "            new_dist = self._compute_distance(self.agent_pos[i], self.goal_pos)\n",
        "            #add up old distances to get baseline reward of system\n",
        "            #can ignore this stuff for now\n",
        "            old_distances.append(old_dist)\n",
        "            new_distances.append(new_dist)\n",
        "            baseline_old += old_dist\n",
        "            baseline_new += new_dist\n",
        "\n",
        "        #reward system changes\n",
        "\n",
        "\n",
        "\n",
        "\n",
        "        if baseline_old > baseline_new:\n",
        "          for i in range(len(old_distances)):\n",
        "            if new_distances[i] < old_distances[i]:\n",
        "                rewards[i] = 1.5\n",
        "            elif new_distances[i] > old_distances[i]:\n",
        "                rewards[i] = -1\n",
        "\n",
        "            elif (new_distances[i] == old_distances[i]) and not self.done[i]:\n",
        "                rewards[i] = -0.1\n",
        "\n",
        "            if (self.agent_pos[i] == self.goal_pos):\n",
        "                self.done[i] = True\n",
        "                rewards[i] = 10\n",
        "            else:\n",
        "                self.done[i] = False\n",
        "\n",
        "        elif baseline_new > baseline_old:\n",
        "          for i in range(len(old_distances)):\n",
        "            if new_distances[i] < old_distances[i]:\n",
        "                rewards[i] = 1\n",
        "            elif new_distances[i] > old_distances[i]:\n",
        "                rewards[i] = -1.5\n",
        "\n",
        "            elif (new_distances[i] == old_distances[i]) and not self.done[i]:\n",
        "                rewards[i] = 0.1\n",
        "\n",
        "            if (self.agent_pos[i] == self.goal_pos):\n",
        "                self.done[i] = True\n",
        "                rewards[i] = 10\n",
        "            else:\n",
        "                self.done[i] = False\n",
        "\n",
        "        else:\n",
        "          for i in range(len(old_distances)):\n",
        "            if new_distances[i] < old_distances[i]:\n",
        "                rewards[i] = -1.5\n",
        "            elif new_distances[i] > old_distances[i]:\n",
        "                rewards[i] = -2.5\n",
        "\n",
        "            elif (new_distances[i] == old_distances[i]) and not self.done[i]:\n",
        "                rewards[i] = -10\n",
        "\n",
        "            if (self.agent_pos[i] == self.goal_pos):\n",
        "                self.done[i] = True\n",
        "                rewards[i] = 10\n",
        "            else:\n",
        "                self.done[i] = False\n",
        "\n",
        "\n",
        "\n",
        "        if self._timestep >= self._max_timestep:\n",
        "            self.done = [True for i in range(self.n_agents)]\n",
        "\n",
        "        observation = self._pos_to_state(self.agent_pos)\n",
        "        info = {}\n",
        "        return observation, rewards, self.done, info #all(done)\n",
        "\n",
        "\n",
        "    def update_agent_pos(self, agent, action):\n",
        "        next_pos = copy(self.agent_pos[agent])\n",
        "        if action == 0: # Down\n",
        "            next_pos[0] += 1\n",
        "        elif action == 1: # Up\n",
        "            next_pos[0] -= 1\n",
        "        elif action == 2: # Right\n",
        "            next_pos[1] += 1\n",
        "        elif action == 3: # Left\n",
        "            next_pos[1] -= 1\n",
        "        elif action == 4: # No move\n",
        "            pass\n",
        "        else:\n",
        "            raise Exception('Action is not valid')\n",
        "\n",
        "        if self._is_inside_grid(next_pos) and not self._is_collision(next_pos, agent):\n",
        "            self.agent_pos[agent] = next_pos\n",
        "        else:\n",
        "            pass\n",
        "\n",
        "\n",
        "    def render(self):\n",
        "        state = np.copy(self.world)\n",
        "        state[tuple(self.goal_pos)] = 0.5\n",
        "        for i in range(self.n_agents):\n",
        "            state[tuple(self.agent_pos[i])] = 1 - (0.1 * i)\n",
        "            # state[tuple(self.goal_pos[i])] = 1 - (0.1 * i)\n",
        "        return plt.imshow(state)"
      ],
      "metadata": {
        "id": "uZ80ndlMcO22"
      },
      "execution_count": null,
      "outputs": []
    },
    {
      "cell_type": "code",
      "source": [
        "config = {\n",
        "    'N_AGENTS' : 2,\n",
        "    'GRID_SIZE' : 4,\n",
        "    'NUM_EPISODES': 600\n",
        "}"
      ],
      "metadata": {
        "id": "Kh3tCZteceS-"
      },
      "execution_count": null,
      "outputs": []
    },
    {
      "cell_type": "code",
      "source": [
        "if __name__ == '__main__':\n",
        "    n_agents = config['N_AGENTS']\n",
        "    size = config['GRID_SIZE']\n",
        "    episodes = config['NUM_EPISODES']\n",
        "    max_steps = 400\n",
        "    explore_rate = 1\n",
        "    decay_rate = 0.01\n",
        "    min_explore_rate = 0.01\n",
        "    alpha = 0.7\n",
        "    gamma = 0.9\n",
        "    env = MAGridWorld2(size=size, n_agents=n_agents)\n",
        "    n_observations = env.observation_space.n\n",
        "    n_actions = env.action_space.n\n",
        "\n",
        "    # Initialize Q-table to 0\n",
        "    Q_table = np.zeros((n_agents, n_observations, n_actions))\n",
        "    print(Q_table)\n",
        "\n",
        "    rewards_per_episode = []\n",
        "    timesteps_per_episode = []\n",
        "    exploration_decay = []\n",
        "    # Iterate over episodes\n",
        "    for episode in range(episodes):\n",
        "\n",
        "\n",
        "      current_state = env.reset()\n",
        "      i = 1\n",
        "\n",
        "      episode_reward = np.zeros((n_agents))\n",
        "\n",
        "      # while max timesteps or termination condition not met\n",
        "      while not all(env.done):\n",
        "        action_n = []\n",
        "\n",
        "        # if exploration rate is greater than random numb from 0-1\n",
        "        if np.random.uniform(0,1) < explore_rate:\n",
        "\n",
        "          # Take Random Action\n",
        "          action_n = [env.action_space.sample(), env.action_space.sample(), \\\n",
        "                        env.action_space.sample(), env.action_space.sample(), \\\n",
        "                        env.action_space.sample(), env.action_space.sample()]\n",
        "        # if exploration rate below random num from 0-1\n",
        "        else:\n",
        "          #exploit best actions using q_table\n",
        "          for n in range(n_agents):\n",
        "            action_n.append(np.argmax(Q_table[n, current_state[n], :]))\n",
        "\n",
        "        # Environment runs the chosen action and returns the next state,\n",
        "        # rewards, and true if episode ended\n",
        "        next_state, rewards, done, _ = env.step(action_n)\n",
        "        episode_reward[0:] += rewards[0:]\n",
        "\n",
        "        # Update Q-table\n",
        "        for n in range(n_agents):\n",
        "          Q_table[n, current_state[n], action_n[n]] = (1-alpha) * Q_table[n, current_state[n], action_n[n]] + alpha * (rewards[n] + gamma * max(Q_table[n, next_state[n], :]))\n",
        "\n",
        "        current_state = next_state\n",
        "        # print(f'Episode {episode + 1}:')\n",
        "        # print(f'Timestep {i}')\n",
        "        # i += 1\n",
        "        # print('Actions: ', action_n)\n",
        "        # print('Next State: ', next_state)\n",
        "        # print('Reward: ', rewards)\n",
        "        # print('Episode Reward: ', episode_reward)\n",
        "        # print('Done: ', done)\n",
        "        # print('\\n')\n",
        "        # plt.figure()\n",
        "        # env.render()\n",
        "        # plt.show()\n",
        "        # time.sleep(.01)\n",
        "        # clear_output(wait=True)\n",
        "\n",
        "      timesteps_per_episode.append(env._timestep)\n",
        "      # Update exploration rate using decay formula\n",
        "      exploration_decay.append(explore_rate)\n",
        "      explore_rate = max(min_explore_rate, np.exp(-decay_rate*episode))\n",
        "      rewards_per_episode.append(episode_reward)"
      ],
      "metadata": {
        "colab": {
          "base_uri": "https://localhost:8080/"
        },
        "id": "LAi5PTZbcksk",
        "outputId": "17f3458c-51ff-4cbb-adcc-c804baadaa81"
      },
      "execution_count": null,
      "outputs": [
        {
          "output_type": "stream",
          "name": "stdout",
          "text": [
            "[[[0. 0. 0. 0. 0.]\n",
            "  [0. 0. 0. 0. 0.]\n",
            "  [0. 0. 0. 0. 0.]\n",
            "  [0. 0. 0. 0. 0.]\n",
            "  [0. 0. 0. 0. 0.]\n",
            "  [0. 0. 0. 0. 0.]\n",
            "  [0. 0. 0. 0. 0.]\n",
            "  [0. 0. 0. 0. 0.]\n",
            "  [0. 0. 0. 0. 0.]\n",
            "  [0. 0. 0. 0. 0.]\n",
            "  [0. 0. 0. 0. 0.]\n",
            "  [0. 0. 0. 0. 0.]\n",
            "  [0. 0. 0. 0. 0.]\n",
            "  [0. 0. 0. 0. 0.]\n",
            "  [0. 0. 0. 0. 0.]\n",
            "  [0. 0. 0. 0. 0.]]\n",
            "\n",
            " [[0. 0. 0. 0. 0.]\n",
            "  [0. 0. 0. 0. 0.]\n",
            "  [0. 0. 0. 0. 0.]\n",
            "  [0. 0. 0. 0. 0.]\n",
            "  [0. 0. 0. 0. 0.]\n",
            "  [0. 0. 0. 0. 0.]\n",
            "  [0. 0. 0. 0. 0.]\n",
            "  [0. 0. 0. 0. 0.]\n",
            "  [0. 0. 0. 0. 0.]\n",
            "  [0. 0. 0. 0. 0.]\n",
            "  [0. 0. 0. 0. 0.]\n",
            "  [0. 0. 0. 0. 0.]\n",
            "  [0. 0. 0. 0. 0.]\n",
            "  [0. 0. 0. 0. 0.]\n",
            "  [0. 0. 0. 0. 0.]\n",
            "  [0. 0. 0. 0. 0.]]]\n"
          ]
        }
      ]
    },
    {
      "cell_type": "code",
      "source": [
        "labels = []\n",
        "for agent in range(n_agents): labels.append(f'agent {agent+1}')\n",
        "plt.plot(rewards_per_episode)\n",
        "plt.ylabel('Reward')\n",
        "plt.xlabel('Episode')\n",
        "plt.title('Reward per Episode')\n",
        "#plt.xticks(np.arange(len(total_episode_reward)), np.arange(1, len(total_episode_reward)+1))\n",
        "#plt.xticks(np.arange(0, len(total_episode_reward), step=10))\n",
        "plt.legend(labels)"
      ],
      "metadata": {
        "colab": {
          "base_uri": "https://localhost:8080/",
          "height": 313
        },
        "id": "7gUOFXOVcn0D",
        "outputId": "2810ff41-32bb-423f-953b-79154b363be6"
      },
      "execution_count": null,
      "outputs": [
        {
          "output_type": "execute_result",
          "data": {
            "text/plain": [
              "<matplotlib.legend.Legend at 0x7f3c046a1880>"
            ]
          },
          "metadata": {},
          "execution_count": 15
        },
        {
          "output_type": "display_data",
          "data": {
            "text/plain": [
              "<Figure size 432x288 with 1 Axes>"
            ],
            "image/png": "[encoded data removed]"
          },
          "metadata": {
            "needs_background": "light"
          }
        }
      ]
    },
    {
      "cell_type": "code",
      "source": [
        "plt.plot(exploration_decay)\n",
        "plt.ylabel('Epsilon')\n",
        "plt.xlabel('Episode')\n",
        "plt.title('Epsilon Decay')"
      ],
      "metadata": {
        "colab": {
          "base_uri": "https://localhost:8080/",
          "height": 313
        },
        "id": "Wm6Yg4lbcp3A",
        "outputId": "fc132756-1092-498b-ebe5-2555d04a9baf"
      },
      "execution_count": null,
      "outputs": [
        {
          "output_type": "execute_result",
          "data": {
            "text/plain": [
              "Text(0.5, 1.0, 'Epsilon Decay')"
            ]
          },
          "metadata": {},
          "execution_count": 16
        },
        {
          "output_type": "display_data",
          "data": {
            "text/plain": [
              "<Figure size 432x288 with 1 Axes>"
            ],
            "image/png": "[encoded data removed]"
          },
          "metadata": {
            "needs_background": "light"
          }
        }
      ]
    },
    {
      "cell_type": "code",
      "source": [
        "print(timesteps_per_episode)\n",
        "plt.plot(timesteps_per_episode)"
      ],
      "metadata": {
        "colab": {
          "base_uri": "https://localhost:8080/",
          "height": 321
        },
        "id": "f4e_FC5acsdF",
        "outputId": "5bf7c183-e7f8-4317-e7b0-bf4a3851c7be"
      },
      "execution_count": null,
      "outputs": [
        {
          "output_type": "stream",
          "name": "stdout",
          "text": [
            "[168, 200, 200, 132, 200, 124, 137, 88, 41, 68, 113, 200, 31, 72, 61, 57, 80, 44, 125, 176, 64, 186, 43, 145, 32, 55, 71, 26, 19, 14, 36, 77, 21, 67, 17, 14, 16, 41, 36, 69, 36, 38, 37, 17, 93, 29, 55, 14, 17, 13, 36, 103, 73, 17, 13, 9, 12, 20, 7, 12, 16, 11, 15, 25, 28, 23, 14, 26, 14, 39, 7, 69, 12, 18, 45, 25, 15, 15, 16, 32, 15, 23, 65, 15, 9, 11, 13, 21, 11, 10, 14, 25, 22, 17, 60, 64, 58, 10, 22, 7, 34, 86, 20, 19, 29, 45, 28, 66, 19, 85, 10, 17, 7, 139, 14, 8, 7, 8, 14, 7, 18, 74, 34, 7, 50, 90, 32, 10, 43, 23, 15, 11, 18, 8, 29, 6, 21, 24, 6, 36, 51, 10, 19, 12, 73, 74, 6, 49, 84, 19, 10, 22, 22, 100, 5, 28, 5, 5, 12, 21, 91, 43, 17, 161, 9, 6, 7, 68, 12, 10, 96, 70, 6, 31, 18, 19, 28, 37, 13, 5, 10, 76, 15, 40, 30, 44, 16, 16, 8, 8, 84, 57, 21, 13, 33, 12, 11, 35, 23, 18, 9, 51, 17, 31, 28, 15, 7, 55, 15, 30, 6, 18, 6, 5, 6, 55, 11, 7, 32, 11, 6, 16, 5, 6, 13, 48, 26, 10, 9, 9, 10, 9, 7, 7, 7, 54, 5, 16, 33, 37, 25, 43, 17, 61, 13, 9, 114, 84, 10, 6, 19, 100, 87, 81, 48, 123, 102, 6, 14, 55, 44, 200, 17, 134, 112, 23, 20, 23, 9, 9, 9, 9, 109, 59, 127, 46, 33, 14, 31, 15, 9, 43, 54, 31, 48, 10, 18, 6, 5, 9, 200, 82, 23, 200, 8, 40, 49, 58, 5, 175, 30, 13, 6, 10, 7, 200, 28, 19, 7, 7, 6, 200, 33, 28, 23, 7, 9, 200, 34, 200, 106, 73, 30, 23, 30, 18, 10, 170, 30, 58, 11, 10, 93, 30, 184, 73, 47, 96, 7, 6, 35, 7, 6, 90, 10, 6, 7, 7, 7, 61, 22, 74, 13, 8, 10, 9, 9, 9, 10, 117, 200, 38, 13, 149, 56, 39, 33, 200, 49, 109, 38, 200, 148, 200, 62, 8, 10, 35, 33, 7, 7, 17, 5, 52, 6, 7, 24, 9, 62, 6, 129, 5, 14, 87, 55, 5, 13, 165, 9, 200, 187, 10, 11, 9, 7, 77, 55, 17, 49, 14, 8, 94, 22, 7, 80, 46, 57, 8, 8, 23, 124, 8, 10, 43, 21, 20, 6, 172, 200, 142, 200, 38, 140, 200, 200, 200, 57, 150, 13, 121, 35, 200, 200, 200, 200, 200, 200, 200, 7, 200, 36, 104, 8, 9, 18, 187, 7, 9, 9, 7, 9, 200, 200, 7, 95, 200, 7, 200, 7, 196, 200, 200, 6, 200, 200, 200, 169, 8, 126, 53, 199, 15, 6, 200, 200, 200, 56, 6, 67, 200, 200, 200, 200, 200, 200, 200, 200, 86, 41, 200, 200, 7, 6, 12, 12, 9, 6, 6, 7, 7, 200, 96, 200, 183, 5, 5, 51, 6, 6, 6, 5, 200, 132, 75, 7, 13, 158, 9, 8, 8, 41, 7, 33, 6, 67, 65, 68, 6, 7, 6, 6, 7, 7, 8, 6, 6, 7, 7, 71, 92, 7, 7, 7, 6, 7, 7, 7, 6, 7, 100, 6, 5, 5, 200, 200, 21, 9, 25, 49, 76, 6, 16, 6, 200, 200, 200, 51, 10, 8, 21, 200, 55, 179, 200, 27, 7, 7, 9, 9, 57, 6, 6, 200, 59, 200, 76, 200, 188, 200, 9]\n"
          ]
        },
        {
          "output_type": "execute_result",
          "data": {
            "text/plain": [
              "[<matplotlib.lines.Line2D at 0x7f3c0479a760>]"
            ]
          },
          "metadata": {},
          "execution_count": 17
        },
        {
          "output_type": "display_data",
          "data": {
            "text/plain": [
              "<Figure size 432x288 with 1 Axes>"
            ],
            "image/png": "[encoded data removed]"
          },
          "metadata": {
            "needs_background": "light"
          }
        }
      ]
    },
    {
      "cell_type": "code",
      "source": [],
      "metadata": {
        "id": "_5RtworB7DSm"
      },
      "execution_count": null,
      "outputs": []
    }
  ]
}