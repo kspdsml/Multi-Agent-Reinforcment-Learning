{
 "cells": [
  {
   "cell_type": "markdown",
   "id": "2d06c20c",
   "metadata": {},
   "source": [
    "   # Problem 1: N-Queens"
   ]
  },
  {
   "cell_type": "markdown",
   "id": "0d8d5542",
   "metadata": {},
   "source": [
    "# Problem 2: Tower of Hanoi"
   ]
  },
  {
   "cell_type": "markdown",
   "id": "32675a73",
   "metadata": {},
   "source": [
    "# Problem 3: Rounded Bracket Generator"
   ]
  },
  {
   "cell_type": "markdown",
   "id": "168ea9f7",
   "metadata": {},
   "source": [
    "# Problem 4: RL Grid World Safe Zone Detection"
   ]
  },
  {
   "cell_type": "code",
   "execution_count": null,
   "id": "a6953d8a",
   "metadata": {},
   "outputs": [],
   "source": []
  }
 ],
 "metadata": {
  "kernelspec": {
   "display_name": "Python 3 (ipykernel)",
   "language": "python",
   "name": "python3"
  },
  "language_info": {
   "codemirror_mode": {
    "name": "ipython",
    "version": 3
   },
   "file_extension": ".py",
   "mimetype": "text/x-python",
   "name": "python",
   "nbconvert_exporter": "python",
   "pygments_lexer": "ipython3",
   "version": "3.8.10"
  }
 },
 "nbformat": 4,
 "nbformat_minor": 5
}
