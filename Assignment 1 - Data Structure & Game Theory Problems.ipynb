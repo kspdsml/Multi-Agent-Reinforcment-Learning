{
 "cells": [
  {
   "cell_type": "markdown",
   "id": "2d06c20c",
   "metadata": {},
   "source": [
    "   # Problem 1: N-Queens"
   ]
  },
  {
   "cell_type": "code",
   "execution_count": null,
   "id": "110891d0",
   "metadata": {},
   "outputs": [],
   "source": []
  },
  {
   "cell_type": "markdown",
   "id": "0d8d5542",
   "metadata": {},
   "source": [
    "# Problem 2: Tower of Hanoi"
   ]
  },
  {
   "cell_type": "markdown",
   "id": "8185b78a",
   "metadata": {},
   "source": [
    "## Recursion practice"
   ]
  },
  {
   "cell_type": "markdown",
   "id": "6a8b810b",
   "metadata": {},
   "source": [
    "### Power function using recursion"
   ]
  },
  {
   "cell_type": "code",
   "execution_count": 24,
   "id": "6b7c1858",
   "metadata": {},
   "outputs": [],
   "source": [
    "def power(num, pow):\n",
    "    # the base case\n",
    "    if pow == 0:\n",
    "        return 1\n",
    "    # the recursive call\n",
    "    return num * power(num, pow - 1)"
   ]
  },
  {
   "cell_type": "code",
   "execution_count": 26,
   "id": "b3545d7e",
   "metadata": {},
   "outputs": [
    {
     "data": {
      "text/plain": [
       "32"
      ]
     },
     "execution_count": 26,
     "metadata": {},
     "output_type": "execute_result"
    }
   ],
   "source": [
    "power(2,5)"
   ]
  },
  {
   "cell_type": "markdown",
   "id": "a7098a6c",
   "metadata": {},
   "source": [
    "### Factorial function using recursion"
   ]
  },
  {
   "cell_type": "code",
   "execution_count": 27,
   "id": "7e3111dd",
   "metadata": {},
   "outputs": [],
   "source": [
    "def factorial(n: int):\n",
    "    # the base case\n",
    "    if n == 0:\n",
    "        return 1\n",
    "    # the recursion call\n",
    "    return n * factorial(n-1)"
   ]
  },
  {
   "cell_type": "code",
   "execution_count": 31,
   "id": "98f3f38f",
   "metadata": {},
   "outputs": [
    {
     "data": {
      "text/plain": [
       "720"
      ]
     },
     "execution_count": 31,
     "metadata": {},
     "output_type": "execute_result"
    }
   ],
   "source": [
    "factorial(6)"
   ]
  },
  {
   "cell_type": "markdown",
   "id": "4b6797d5",
   "metadata": {},
   "source": [
    "### Make list using recursion"
   ]
  },
  {
   "cell_type": "code",
   "execution_count": 83,
   "id": "1a098bd3",
   "metadata": {},
   "outputs": [],
   "source": [
    "def makeList(num: int):\n",
    "    # the base case\n",
    "    if num == 1:\n",
    "        return [1]\n",
    "    \n",
    "    # recursive call\n",
    "    return [num] + makeList(num - 1)\n",
    "    "
   ]
  },
  {
   "cell_type": "code",
   "execution_count": 85,
   "id": "1fca354a",
   "metadata": {},
   "outputs": [
    {
     "data": {
      "text/plain": [
       "[5, 4, 3, 2, 1]"
      ]
     },
     "execution_count": 85,
     "metadata": {},
     "output_type": "execute_result"
    }
   ],
   "source": [
    "makeList(5)"
   ]
  },
  {
   "cell_type": "markdown",
   "id": "08db3c53",
   "metadata": {},
   "source": [
    "### sumList function using recursion"
   ]
  },
  {
   "cell_type": "code",
   "execution_count": 89,
   "id": "ef7a80bd",
   "metadata": {},
   "outputs": [],
   "source": [
    "from typing import List\n",
    "\n",
    "def sumList(listOfIntegers: List, length: int):\n",
    "    # base case\n",
    "    if length == 1:\n",
    "        return listOfIntegers[0]\n",
    "    # recursive call\n",
    "    return listOfIntegers[0] + sumList(listOfIntegers[1:], length-1)"
   ]
  },
  {
   "cell_type": "code",
   "execution_count": 93,
   "id": "f7a358fa",
   "metadata": {},
   "outputs": [
    {
     "data": {
      "text/plain": [
       "12"
      ]
     },
     "execution_count": 93,
     "metadata": {},
     "output_type": "execute_result"
    }
   ],
   "source": [
    "sumList([4, 2, 1, 5, 4], 4)"
   ]
  },
  {
   "cell_type": "code",
   "execution_count": 109,
   "id": "f3487318",
   "metadata": {},
   "outputs": [],
   "source": [
    "def printStep(n, start, end):\n",
    "    print(f'Move disc {n} from {start} to {end}')"
   ]
  },
  {
   "cell_type": "code",
   "execution_count": 110,
   "id": "eb685192",
   "metadata": {},
   "outputs": [
    {
     "name": "stdout",
     "output_type": "stream",
     "text": [
      "Move disc 3 from A to C\n"
     ]
    }
   ],
   "source": [
    "printStep(3, 'A', 'C')"
   ]
  },
  {
   "cell_type": "code",
   "execution_count": 119,
   "id": "d79a1960",
   "metadata": {},
   "outputs": [],
   "source": [
    "def towerOfHanoi(n: int, start, end, mid):\n",
    "    if n == 1:\n",
    "        printStep(n, start, end)\n",
    "    else:\n",
    "        towerOfHanoi(n-1, start, mid, end)\n",
    "        printStep(n, start, end)\n",
    "        towerOfHanoi(n-1, mid, end, start)"
   ]
  },
  {
   "cell_type": "code",
   "execution_count": 121,
   "id": "05bc6ab5",
   "metadata": {},
   "outputs": [
    {
     "name": "stdout",
     "output_type": "stream",
     "text": [
      "Move disc 1 from A to C\n",
      "Move disc 2 from A to B\n",
      "Move disc 1 from C to B\n",
      "Move disc 3 from A to C\n",
      "Move disc 1 from B to A\n",
      "Move disc 2 from B to C\n",
      "Move disc 1 from A to C\n"
     ]
    }
   ],
   "source": [
    "towerOfHanoi(3, 'A', 'C', 'B')"
   ]
  },
  {
   "cell_type": "markdown",
   "id": "32675a73",
   "metadata": {},
   "source": [
    "# Problem 3: Rounded Bracket Generator"
   ]
  },
  {
   "cell_type": "code",
   "execution_count": 28,
   "id": "8e88594b",
   "metadata": {},
   "outputs": [],
   "source": [
    "def rbg(n: int):\n",
    "    '''\n",
    "    In this problem there is an input n which is the number of opening rounded brackets.\n",
    "    Write a solution to find all the combination for n number of opening brackets.\n",
    "    NOTE: If a bracket is open it has to be closed as well.\n",
    "    \n",
    "    Ex 1:\n",
    "    Input: n=3\n",
    "    Output: [\"((()))\", \"(()())\", \"(())()\", \"()(())\", \"()()()\"\"]\n",
    "    \n",
    "    Ex 2:\n",
    "    Input: n=1\n",
    "    Output: [\"()\"]\n",
    "    '''\n",
    "    def rbgHelper(left, right, result, temp):\n",
    "        if left > 0:\n",
    "            rbgHelper(left-1, right, result, temp+'(')\n",
    "        if right > left:\n",
    "            result.append(')')\n",
    "            rbgHelper(left, right-1, result, temp + ')')\n",
    "        if left == 0 and right == 0:\n",
    "            result.append(temp)\n",
    "            return\n",
    "    result = []\n",
    "    rbgHelper(n,n,result,'')\n",
    "    return result\n",
    "    \n",
    "\n",
    "        \n",
    "    "
   ]
  },
  {
   "cell_type": "code",
   "execution_count": 30,
   "id": "247e6009",
   "metadata": {},
   "outputs": [
    {
     "data": {
      "text/plain": [
       "[')', '()']"
      ]
     },
     "execution_count": 30,
     "metadata": {},
     "output_type": "execute_result"
    }
   ],
   "source": [
    "rbg(1)"
   ]
  },
  {
   "cell_type": "markdown",
   "id": "168ea9f7",
   "metadata": {},
   "source": [
    "# Problem 4: RL Grid World Safe Zone Detection"
   ]
  },
  {
   "cell_type": "code",
   "execution_count": null,
   "id": "a6953d8a",
   "metadata": {},
   "outputs": [],
   "source": []
  }
 ],
 "metadata": {
  "kernelspec": {
   "display_name": "Python 3 (ipykernel)",
   "language": "python",
   "name": "python3"
  },
  "language_info": {
   "codemirror_mode": {
    "name": "ipython",
    "version": 3
   },
   "file_extension": ".py",
   "mimetype": "text/x-python",
   "name": "python",
   "nbconvert_exporter": "python",
   "pygments_lexer": "ipython3",
   "version": "3.8.10"
  }
 },
 "nbformat": 4,
 "nbformat_minor": 5
}
